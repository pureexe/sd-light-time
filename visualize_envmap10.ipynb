{
 "cells": [
  {
   "cell_type": "code",
   "execution_count": 7,
   "metadata": {},
   "outputs": [],
   "source": [
    "import os \n",
    "import json\n",
    "import skimage \n",
    "import numpy as np"
   ]
  },
  {
   "cell_type": "code",
   "execution_count": 3,
   "metadata": {},
   "outputs": [],
   "source": [
    "with open(\"datasets/face/face2000_single/light_x_minus.json\") as f:\n",
    "    data = json.load(f)"
   ]
  },
  {
   "cell_type": "code",
   "execution_count": 6,
   "metadata": {},
   "outputs": [],
   "source": [
    "outputs = []\n",
    "for path in data: \n",
    "    img = skimage.io.imread(\"datasets/face/face2000_single/ev0/\"+path+\".png\")\n",
    "    outputs.append(img)"
   ]
  },
  {
   "cell_type": "code",
   "execution_count": 8,
   "metadata": {},
   "outputs": [],
   "source": [
    "outputs = np.concatenate(outputs, axis=1)"
   ]
  },
  {
   "cell_type": "code",
   "execution_count": 9,
   "metadata": {},
   "outputs": [],
   "source": [
    "skimage.io.imsave(\"datasets/face/face2000_single/env_light_x_minus.png\", outputs)"
   ]
  },
  {
   "cell_type": "code",
   "execution_count": 23,
   "metadata": {},
   "outputs": [],
   "source": [
    "with open(\"output/20240703/val_axis/vae/5e-5/chk259/light_z_minus/lightning_logs/version_0/scores.json\") as f:\n",
    "    data = json.load(f)\n"
   ]
  },
  {
   "cell_type": "code",
   "execution_count": 26,
   "metadata": {},
   "outputs": [],
   "source": [
    "outputs = []\n",
    "for image in data['corrected'][:25]:\n",
    "    img = skimage.io.imread(\"output/20240703/val_axis/vae/5e-5/chk259/light_z_minus/lightning_logs/version_0/crop_image/\"+image+\".png\")\n",
    "    outputs.append(img)"
   ]
  },
  {
   "cell_type": "code",
   "execution_count": 27,
   "metadata": {},
   "outputs": [
    {
     "name": "stdout",
     "output_type": "stream",
     "text": [
      "Image grid saved as grid.png\n"
     ]
    }
   ],
   "source": [
    "import numpy as np\n",
    "from PIL import Image\n",
    "\n",
    "def create_image_grid(image_list, rows=4, cols=4, padding=1):\n",
    "  \"\"\"\n",
    "  Creates a 4x4 image grid from a list of NumPy arrays and saves it as \"grid.png\".\n",
    "\n",
    "  Args:\n",
    "      image_list: A list containing 16 NumPy arrays representing images.\n",
    "      rows: Number of rows in the grid (default: 4).\n",
    "      cols: Number of columns in the grid (default: 4).\n",
    "      padding: Padding between images in pixels (default: 1).\n",
    "\n",
    "  Raises:\n",
    "      ValueError: If the length of the image list is not a multiple of rows * cols.\n",
    "  \"\"\"\n",
    "\n",
    "  if len(image_list) != rows * cols:\n",
    "    raise ValueError(\"List size must be a multiple of rows * cols\")\n",
    "\n",
    "  total_width = image_list[0].shape[1] * cols + padding * (cols - 1)\n",
    "  total_height = image_list[0].shape[0] * rows + padding * (rows - 1)\n",
    "\n",
    "  grid_image = np.zeros((total_height, total_width, 3), dtype=np.uint8)  # Create empty image for grid\n",
    "\n",
    "  for i in range(rows):\n",
    "    for j in range(cols):\n",
    "      index = i * cols + j\n",
    "      image = image_list[index]\n",
    "      start_y = i * (image.shape[0] + padding)\n",
    "      end_y = start_y + image.shape[0]\n",
    "      start_x = j * (image.shape[1] + padding)\n",
    "      end_x = start_x + image.shape[1]\n",
    "      grid_image[start_y:end_y, start_x:end_x] = image\n",
    "\n",
    "  grid_image = Image.fromarray(grid_image)\n",
    "  grid_image.save(\"grid25minus_corrent.png\")\n",
    "\n",
    "# Example usage\n",
    "\n",
    "create_image_grid(outputs,rows=5, cols=5)\n",
    "\n",
    "print(\"Image grid saved as grid.png\")"
   ]
  },
  {
   "cell_type": "code",
   "execution_count": 30,
   "metadata": {},
   "outputs": [],
   "source": [
    "outputs = []\n",
    "for idx in range(10):\n",
    "    img = skimage.io.imread(f\"output/20240703/val_axis/vae/5e-5/chk259/light_x_minus/lightning_logs/version_0/crop_image/00644_{idx:05d}.png\")\n",
    "    outputs.append(img)\n"
   ]
  },
  {
   "cell_type": "code",
   "execution_count": 31,
   "metadata": {},
   "outputs": [],
   "source": [
    "create_image_grid(outputs,rows=2, cols=5)"
   ]
  },
  {
   "cell_type": "code",
   "execution_count": 32,
   "metadata": {},
   "outputs": [
    {
     "name": "stderr",
     "output_type": "stream",
     "text": [
      "/home/vll/venv_pytorch2.0/lib/python3.11/site-packages/torch/_utils.py:776: UserWarning: TypedStorage is deprecated. It will be removed in the future and UntypedStorage will be the only storage class. This should only matter to you if you are using storages directly.  To access UntypedStorage directly, use tensor.untyped_storage() instead of tensor.storage()\n",
      "  return self.fget.__get__(instance, owner)()\n"
     ]
    }
   ],
   "source": [
    "import torch \n",
    "from transformers import pipeline as transformers_pipeline\n",
    "depth_path = \"Intel/dpt-hybrid-midas\"\n",
    "depth_estimator = transformers_pipeline(\"depth-estimation\", model=depth_path, device=torch.device(\"cpu\"), dtype=torch.float32)"
   ]
  },
  {
   "cell_type": "code",
   "execution_count": 33,
   "metadata": {},
   "outputs": [],
   "source": [
    "from PIL import Image \n",
    "img = Image.open(\"original_00644.png\")"
   ]
  },
  {
   "cell_type": "code",
   "execution_count": 34,
   "metadata": {},
   "outputs": [],
   "source": [
    "a = depth_estimator(img)"
   ]
  },
  {
   "cell_type": "code",
   "execution_count": 36,
   "metadata": {},
   "outputs": [],
   "source": [
    "a['depth'].save(\"depth.png\")"
   ]
  },
  {
   "cell_type": "code",
   "execution_count": null,
   "metadata": {},
   "outputs": [],
   "source": []
  }
 ],
 "metadata": {
  "kernelspec": {
   "display_name": "venv_pytorch2.0",
   "language": "python",
   "name": "python3"
  },
  "language_info": {
   "codemirror_mode": {
    "name": "ipython",
    "version": 3
   },
   "file_extension": ".py",
   "mimetype": "text/x-python",
   "name": "python",
   "nbconvert_exporter": "python",
   "pygments_lexer": "ipython3",
   "version": "3.11.4"
  }
 },
 "nbformat": 4,
 "nbformat_minor": 2
}
