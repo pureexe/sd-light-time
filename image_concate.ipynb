{
 "cells": [
  {
   "cell_type": "code",
   "execution_count": 2,
   "metadata": {},
   "outputs": [],
   "source": [
    "import skimage \n",
    "import numpy as np\n"
   ]
  },
  {
   "cell_type": "code",
   "execution_count": 6,
   "metadata": {},
   "outputs": [],
   "source": [
    "DIRECTIONS = [\"left\",\"right\",\"bottom\",\"top\",\"front\",\"back\"]\n",
    "AXISES = [\"light_x_minus\",\"light_x_plus\",\"light_y_minus\", \"light_y_plus\",\"light_z_plus\",\"light_z_minus\"]"
   ]
  },
  {
   "cell_type": "code",
   "execution_count": 9,
   "metadata": {},
   "outputs": [],
   "source": [
    "import skimage.transform\n",
    "\n",
    "\n",
    "OBJECT_ID = \"1\"\n",
    "outputs = []\n",
    "for direction_id in range(6):\n",
    "    direction = DIRECTIONS[direction_id]\n",
    "    axis = AXISES[direction_id]\n",
    "    rows = []\n",
    "    for image_id in range(10):\n",
    "        img = skimage.io.imread(f\"output/20240703/val_axis_angelica_v2/vae/5e-5/chk159/{axis}/lightning_logs/version_0/crop_image/{direction}{OBJECT_ID}_{image_id:05d}.png\")\n",
    "        img = skimage.transform.resize(img, (256,256))\n",
    "        rows.append(img)\n",
    "    # concate in rows axis\n",
    "    rows = np.concatenate(rows, axis=1)\n",
    "    outputs.append(rows)\n",
    "# concate in columns axis\n",
    "outputs = np.concatenate(outputs, axis=0)\n",
    "outputs = skimage.img_as_ubyte(outputs)\n",
    "skimage.io.imsave(f\"output/20240703/val_axis_angelica_v2/vae/5e-5/chk159/concatenated{OBJECT_ID}.png\", outputs)"
   ]
  },
  {
   "cell_type": "code",
   "execution_count": null,
   "metadata": {},
   "outputs": [],
   "source": []
  }
 ],
 "metadata": {
  "kernelspec": {
   "display_name": "venv_pytorch2.0",
   "language": "python",
   "name": "python3"
  },
  "language_info": {
   "codemirror_mode": {
    "name": "ipython",
    "version": 3
   },
   "file_extension": ".py",
   "mimetype": "text/x-python",
   "name": "python",
   "nbconvert_exporter": "python",
   "pygments_lexer": "ipython3",
   "version": "3.11.8"
  }
 },
 "nbformat": 4,
 "nbformat_minor": 2
}
