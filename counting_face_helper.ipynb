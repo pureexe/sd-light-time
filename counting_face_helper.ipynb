{
 "cells": [
  {
   "cell_type": "code",
   "execution_count": 1,
   "metadata": {},
   "outputs": [],
   "source": [
    "import json"
   ]
  },
  {
   "cell_type": "code",
   "execution_count": 2,
   "metadata": {},
   "outputs": [],
   "source": [
    "PATH = 'lightning_logs/version_{}/face_light/step{}/counting_{}.json'"
   ]
  },
  {
   "cell_type": "code",
   "execution_count": null,
   "metadata": {},
   "outputs": [],
   "source": [
    "output = {\n",
    "    'left': [],\n",
    "    'right': []\n",
    "}\n",
    "for version in range(4,8):\n",
    "    for step in [077900]:\n",
    "        for idx, prompt in enumerate(['left', 'right']):\n",
    "            with open(PATH.format(version, f\"{step:06d}\", idx)) as f:\n",
    "                result = json.load(f)\n",
    "            output[prompt].append(result[prompt])\n",
    "\n",
    "\n"
   ]
  },
  {
   "cell_type": "code",
   "execution_count": 2,
   "metadata": {},
   "outputs": [],
   "source": [
    "PATH = 'output/20240604_TimeEmbedingV2/lightning_logs/version_{}/face_light/step{}/counting_{}.json'"
   ]
  },
  {
   "cell_type": "code",
   "execution_count": 4,
   "metadata": {},
   "outputs": [
    {
     "name": "stdout",
     "output_type": "stream",
     "text": [
      "{'left': [64, 59, 50, 64], 'right': [80, 72, 67, 75]}\n"
     ]
    }
   ],
   "source": [
    "output = {\n",
    "    'left': [],\n",
    "    'right': []\n",
    "}\n",
    "for version in range(0,4):\n",
    "    for step in [115900]:\n",
    "        for idx, prompt in enumerate(['left', 'right']):\n",
    "            with open(PATH.format(version, f\"{step:06d}\", idx)) as f:\n",
    "                result = json.load(f)\n",
    "            output[prompt].append(result[prompt])\n",
    "print(output)\n"
   ]
  },
  {
   "cell_type": "code",
   "execution_count": null,
   "metadata": {},
   "outputs": [],
   "source": []
  }
 ],
 "metadata": {
  "kernelspec": {
   "display_name": "venv_pytorch2.0",
   "language": "python",
   "name": "python3"
  },
  "language_info": {
   "codemirror_mode": {
    "name": "ipython",
    "version": 3
   },
   "file_extension": ".py",
   "mimetype": "text/x-python",
   "name": "python",
   "nbconvert_exporter": "python",
   "pygments_lexer": "ipython3",
   "version": "3.11.8"
  }
 },
 "nbformat": 4,
 "nbformat_minor": 2
}
