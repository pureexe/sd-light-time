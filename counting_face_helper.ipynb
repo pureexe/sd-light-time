{
 "cells": [
  {
   "cell_type": "code",
   "execution_count": 3,
   "metadata": {},
   "outputs": [],
   "source": [
    "import json"
   ]
  },
  {
   "cell_type": "code",
   "execution_count": 2,
   "metadata": {},
   "outputs": [],
   "source": [
    "PATH = 'lightning_logs/version_{}/face_light/step{}/counting_{}.json'"
   ]
  },
  {
   "cell_type": "code",
   "execution_count": null,
   "metadata": {},
   "outputs": [],
   "source": [
    "output = {\n",
    "    'left': [],\n",
    "    'right': []\n",
    "}\n",
    "for version in range(4,8):\n",
    "    for step in [077900]:\n",
    "        for idx, prompt in enumerate(['left', 'right']):\n",
    "            with open(PATH.format(version, f\"{step:06d}\", idx)) as f:\n",
    "                result = json.load(f)\n",
    "            output[prompt].append(result[prompt])\n",
    "\n",
    "\n"
   ]
  },
  {
   "cell_type": "code",
   "execution_count": 2,
   "metadata": {},
   "outputs": [],
   "source": [
    "PATH = 'output/20240604_TimeEmbedingV2/lightning_logs/version_{}/face_light/step{}/counting_{}.json'"
   ]
  },
  {
   "cell_type": "code",
   "execution_count": 4,
   "metadata": {},
   "outputs": [],
   "source": [
    "all = {}\n",
    "for version in range(0,4):\n",
    "    output = {\n",
    "        'left': [],\n",
    "        'right': []\n",
    "    }\n",
    "    for step in [39900, 77900, 115900, 153900, 191900, 229900,267900, 305900, 343900, 381900, 419900]:\n",
    "        for idx, prompt in enumerate(['left', 'right']):\n",
    "            with open(PATH.format(version, f\"{step:06d}\", idx)) as f:\n",
    "                result = json.load(f)\n",
    "            output[prompt].append(result[prompt])\n",
    "    all[version] = output\n",
    "with open('output/20240604_TimeEmbedingV2/lightning_logs/counting.json', 'w') as f:\n",
    "    json.dump(all, f, indent=4)"
   ]
  },
  {
   "cell_type": "code",
   "execution_count": 2,
   "metadata": {},
   "outputs": [],
   "source": [
    "PATH = 'output/20240609/multi_fit/lightning_logs/version_{}/face_light/step{}/counting_{}.json'\n",
    "all = {}\n",
    "for version in range(0,4):\n",
    "    output = {\n",
    "        'left': [],\n",
    "        'right': []\n",
    "    }\n",
    "    for step in [1900, 20900, 39900, 58900, 77900]:\n",
    "        for idx, prompt in enumerate(['left', 'right']):\n",
    "            with open(PATH.format(version, f\"{step:06d}\", idx)) as f:\n",
    "                result = json.load(f)\n",
    "            output[prompt].append(result[prompt])\n",
    "    all[version] = output\n",
    "with open('output/20240609/multi_fit/lightning_logs/counting.json', 'w') as f:\n",
    "    json.dump(all, f, indent=4)"
   ]
  },
  {
   "cell_type": "code",
   "execution_count": 4,
   "metadata": {},
   "outputs": [],
   "source": [
    "PATH = 'output/20240609/multi_fit_val/1e-3_ep41/lightning_logs/version_{}/face_light/step000000/guidance_{}/counting_{}.json'\n",
    "all = {}\n",
    "for version in range(0,4):\n",
    "    output = {\n",
    "        'left': [],\n",
    "        'right': []\n",
    "    }\n",
    "    for step in [1,3,5]:\n",
    "        for idx, prompt in enumerate(['left', 'right']):\n",
    "            with open(PATH.format(version, f\"{step}\", idx)) as f:\n",
    "                result = json.load(f)\n",
    "            output[prompt].append(result[prompt])\n",
    "    all[version] = output\n",
    "with open('output/20240609/multi_fit_val/1e-3_ep41/lightning_logs//counting.json', 'w') as f:\n",
    "    json.dump(all, f, indent=4)"
   ]
  },
  {
   "cell_type": "code",
   "execution_count": null,
   "metadata": {},
   "outputs": [],
   "source": []
  }
 ],
 "metadata": {
  "kernelspec": {
   "display_name": "venv_pytorch2.0",
   "language": "python",
   "name": "python3"
  },
  "language_info": {
   "codemirror_mode": {
    "name": "ipython",
    "version": 3
   },
   "file_extension": ".py",
   "mimetype": "text/x-python",
   "name": "python",
   "nbconvert_exporter": "python",
   "pygments_lexer": "ipython3",
   "version": "3.11.4"
  }
 },
 "nbformat": 4,
 "nbformat_minor": 2
}
