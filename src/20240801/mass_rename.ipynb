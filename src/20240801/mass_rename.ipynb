{
 "cells": [
  {
   "cell_type": "code",
   "execution_count": 4,
   "metadata": {},
   "outputs": [],
   "source": [
    "import os \n",
    "import skimage \n",
    "import shutil"
   ]
  },
  {
   "cell_type": "code",
   "execution_count": 22,
   "metadata": {},
   "outputs": [],
   "source": [
    "#ROOT_DIR = \"../../output/20240801/val_rand100_around/2.0/vae/5e-5/chk199/lightning_logs/version_0\"\n",
    "ROOT_DIR = \"output/20240801/val_rand100_y/2.0/vae/1e-4/chk199/lightning_logs/version_0/crop_image\"\n",
    "SOURCE_DIR = f\"{ROOT_DIR}/crop_image/\"\n",
    "TARGET_DIR = f\"{ROOT_DIR}/frame/\"\n",
    "OUTPUT_VIDEO = f\"{ROOT_DIR}/video.mp4\"\n",
    "COMPARE_VIDEO = f\"{ROOT_DIR}/compare.mp4\"\n",
    "#GT_VIDEO = f\"gt_12fps.mp4\"\n",
    "FPS = 6\n",
    "GT_VIDEO = \"gt_y_axis.mp4\"\n",
    "os.makedirs(TARGET_DIR, exist_ok=True)\n",
    "\n",
    "for i in range(360):\n",
    "    source_path = os.path.join(SOURCE_DIR, f\"{i:05d}_{i:05d}.png\")\n",
    "    target_path = os.path.join(TARGET_DIR, f\"{i:05d}.png\")\n",
    "    shutil.copyfile(source_path, target_path)\n"
   ]
  },
  {
   "cell_type": "code",
   "execution_count": 20,
   "metadata": {},
   "outputs": [
    {
     "name": "stderr",
     "output_type": "stream",
     "text": [
      "ffmpeg version 4.4.2-0ubuntu0.22.04.1 Copyright (c) 2000-2021 the FFmpeg developers\n",
      "  built with gcc 11 (Ubuntu 11.2.0-19ubuntu1)\n",
      "  configuration: --prefix=/usr --extra-version=0ubuntu0.22.04.1 --toolchain=hardened --libdir=/usr/lib/x86_64-linux-gnu --incdir=/usr/include/x86_64-linux-gnu --arch=amd64 --enable-gpl --disable-stripping --enable-gnutls --enable-ladspa --enable-libaom --enable-libass --enable-libbluray --enable-libbs2b --enable-libcaca --enable-libcdio --enable-libcodec2 --enable-libdav1d --enable-libflite --enable-libfontconfig --enable-libfreetype --enable-libfribidi --enable-libgme --enable-libgsm --enable-libjack --enable-libmp3lame --enable-libmysofa --enable-libopenjpeg --enable-libopenmpt --enable-libopus --enable-libpulse --enable-librabbitmq --enable-librubberband --enable-libshine --enable-libsnappy --enable-libsoxr --enable-libspeex --enable-libsrt --enable-libssh --enable-libtheora --enable-libtwolame --enable-libvidstab --enable-libvorbis --enable-libvpx --enable-libwebp --enable-libx265 --enable-libxml2 --enable-libxvid --enable-libzimg --enable-libzmq --enable-libzvbi --enable-lv2 --enable-omx --enable-openal --enable-opencl --enable-opengl --enable-sdl2 --enable-pocketsphinx --enable-librsvg --enable-libmfx --enable-libdc1394 --enable-libdrm --enable-libiec61883 --enable-chromaprint --enable-frei0r --enable-libx264 --enable-shared\n",
      "  libavutil      56. 70.100 / 56. 70.100\n",
      "  libavcodec     58.134.100 / 58.134.100\n",
      "  libavformat    58. 76.100 / 58. 76.100\n",
      "  libavdevice    58. 13.100 / 58. 13.100\n",
      "  libavfilter     7.110.100 /  7.110.100\n",
      "  libswscale      5.  9.100 /  5.  9.100\n",
      "  libswresample   3.  9.100 /  3.  9.100\n",
      "  libpostproc    55.  9.100 / 55.  9.100\n",
      "Input #0, image2, from '../../output/20240801/val_rand100_around/2.0/vae/1e-4/chk199/lightning_logs/version_0/frame//%05d.png':\n",
      "  Duration: 00:00:14.40, start: 0.000000, bitrate: N/A\n",
      "  Stream #0:0: Video: png, rgb24(pc), 512x512, 25 fps, 25 tbr, 25 tbn, 25 tbc\n",
      "Stream mapping:\n",
      "  Stream #0:0 -> #0:0 (png (native) -> h264 (libx264))\n",
      "Press [q] to stop, [?] for help\n",
      "[libx264 @ 0x56491a6ba000] using cpu capabilities: MMX2 SSE2Fast SSSE3 SSE4.2 AVX FMA3 BMI2 AVX2\n",
      "[libx264 @ 0x56491a6ba000] profile High, level 2.2, 4:2:0, 8-bit\n",
      "[libx264 @ 0x56491a6ba000] 264 - core 163 r3060 5db6aa6 - H.264/MPEG-4 AVC codec - Copyleft 2003-2021 - http://www.videolan.org/x264.html - options: cabac=1 ref=3 deblock=1:0:0 analyse=0x3:0x113 me=hex subme=7 psy=1 psy_rd=1.00:0.00 mixed_ref=1 me_range=16 chroma_me=1 trellis=1 8x8dct=1 cqm=0 deadzone=21,11 fast_pskip=1 chroma_qp_offset=-2 threads=16 lookahead_threads=2 sliced_threads=0 nr=0 decimate=1 interlaced=0 bluray_compat=0 constrained_intra=0 bframes=3 b_pyramid=2 b_adapt=1 b_bias=0 direct=1 weightb=1 open_gop=0 weightp=2 keyint=250 keyint_min=12 scenecut=40 intra_refresh=0 rc_lookahead=40 rc=crf mbtree=1 crf=12.0 qcomp=0.60 qpmin=0 qpmax=69 qpstep=4 ip_ratio=1.40 aq=1:1.00\n",
      "Output #0, mp4, to '../../output/20240801/val_rand100_around/2.0/vae/1e-4/chk199/lightning_logs/version_0/video.mp4':\n",
      "  Metadata:\n",
      "    encoder         : Lavf58.76.100\n",
      "  Stream #0:0: Video: h264 (avc1 / 0x31637661), yuv420p(tv, progressive), 512x512, q=2-31, 12 fps, 12288 tbn\n",
      "    Metadata:\n",
      "      encoder         : Lavc58.134.100 libx264\n",
      "    Side data:\n",
      "      cpb: bitrate max/min/avg: 0/0/0 buffer size: 0 vbv_delay: N/A\n",
      "frame=  360 fps=256 q=-1.0 Lsize=    5875kB time=00:00:29.75 bitrate=1617.7kbits/s speed=21.2x    \n",
      "video:5871kB audio:0kB subtitle:0kB other streams:0kB global headers:0kB muxing overhead: 0.065853%\n",
      "[libx264 @ 0x56491a6ba000] frame I:2     Avg QP: 4.01  size: 38209\n",
      "[libx264 @ 0x56491a6ba000] frame P:233   Avg QP: 5.77  size: 19102\n",
      "[libx264 @ 0x56491a6ba000] frame B:125   Avg QP: 6.76  size: 11872\n",
      "[libx264 @ 0x56491a6ba000] consecutive B-frames: 50.8%  6.1%  7.5% 35.6%\n",
      "[libx264 @ 0x56491a6ba000] mb I  I16..4: 34.5% 45.2% 20.3%\n",
      "[libx264 @ 0x56491a6ba000] mb P  I16..4: 18.6% 22.1%  2.5%  P16..4: 28.7%  8.1%  7.6%  0.0%  0.0%    skip:12.3%\n",
      "[libx264 @ 0x56491a6ba000] mb B  I16..4:  7.7%  4.1%  0.4%  B16..8: 25.0%  4.2%  2.4%  direct:30.7%  skip:25.5%  L0:41.4% L1:45.2% BI:13.4%\n",
      "[libx264 @ 0x56491a6ba000] 8x8 transform intra:48.8% inter:48.0%\n",
      "[libx264 @ 0x56491a6ba000] coded y,uvDC,uvAC intra: 44.0% 54.7% 53.5% inter: 41.4% 33.7% 26.1%\n",
      "[libx264 @ 0x56491a6ba000] i16 v,h,dc,p: 74% 14% 10%  2%\n",
      "[libx264 @ 0x56491a6ba000] i8 v,h,dc,ddl,ddr,vr,hd,vl,hu: 15% 11% 64%  2%  2%  2%  2%  1%  1%\n",
      "[libx264 @ 0x56491a6ba000] i4 v,h,dc,ddl,ddr,vr,hd,vl,hu: 19% 16% 24%  6%  7% 10%  7%  7%  6%\n",
      "[libx264 @ 0x56491a6ba000] i8c dc,h,v,p: 78% 10% 10%  2%\n",
      "[libx264 @ 0x56491a6ba000] Weighted P-Frames: Y:31.8% UV:13.3%\n",
      "[libx264 @ 0x56491a6ba000] ref P L0: 74.0% 12.2%  9.3%  3.2%  1.3%\n",
      "[libx264 @ 0x56491a6ba000] ref B L0: 88.9%  7.6%  3.4%\n",
      "[libx264 @ 0x56491a6ba000] ref B L1: 96.1%  3.9%\n",
      "[libx264 @ 0x56491a6ba000] kb/s:1602.99\n"
     ]
    },
    {
     "data": {
      "text/plain": [
       "0"
      ]
     },
     "execution_count": 20,
     "metadata": {},
     "output_type": "execute_result"
    }
   ],
   "source": [
    "# create the video\n",
    "if os.path.exists(OUTPUT_VIDEO):\n",
    "    os.remove(OUTPUT_VIDEO)\n",
    "os.system(f'ffmpeg -r {FPS} -i \"{TARGET_DIR}/%05d.png\" -c:v libx264 -crf 12 -pix_fmt yuv420p -vf pad=\"width=ceil(iw/2)*2:height=ceil(ih/2)*2\" {OUTPUT_VIDEO}')"
   ]
  },
  {
   "cell_type": "code",
   "execution_count": 21,
   "metadata": {},
   "outputs": [
    {
     "name": "stderr",
     "output_type": "stream",
     "text": [
      "ffmpeg version 4.4.2-0ubuntu0.22.04.1 Copyright (c) 2000-2021 the FFmpeg developers\n",
      "  built with gcc 11 (Ubuntu 11.2.0-19ubuntu1)\n",
      "  configuration: --prefix=/usr --extra-version=0ubuntu0.22.04.1 --toolchain=hardened --libdir=/usr/lib/x86_64-linux-gnu --incdir=/usr/include/x86_64-linux-gnu --arch=amd64 --enable-gpl --disable-stripping --enable-gnutls --enable-ladspa --enable-libaom --enable-libass --enable-libbluray --enable-libbs2b --enable-libcaca --enable-libcdio --enable-libcodec2 --enable-libdav1d --enable-libflite --enable-libfontconfig --enable-libfreetype --enable-libfribidi --enable-libgme --enable-libgsm --enable-libjack --enable-libmp3lame --enable-libmysofa --enable-libopenjpeg --enable-libopenmpt --enable-libopus --enable-libpulse --enable-librabbitmq --enable-librubberband --enable-libshine --enable-libsnappy --enable-libsoxr --enable-libspeex --enable-libsrt --enable-libssh --enable-libtheora --enable-libtwolame --enable-libvidstab --enable-libvorbis --enable-libvpx --enable-libwebp --enable-libx265 --enable-libxml2 --enable-libxvid --enable-libzimg --enable-libzmq --enable-libzvbi --enable-lv2 --enable-omx --enable-openal --enable-opencl --enable-opengl --enable-sdl2 --enable-pocketsphinx --enable-librsvg --enable-libmfx --enable-libdc1394 --enable-libdrm --enable-libiec61883 --enable-chromaprint --enable-frei0r --enable-libx264 --enable-shared\n",
      "  libavutil      56. 70.100 / 56. 70.100\n",
      "  libavcodec     58.134.100 / 58.134.100\n",
      "  libavformat    58. 76.100 / 58. 76.100\n",
      "  libavdevice    58. 13.100 / 58. 13.100\n",
      "  libavfilter     7.110.100 /  7.110.100\n",
      "  libswscale      5.  9.100 /  5.  9.100\n",
      "  libswresample   3.  9.100 /  3.  9.100\n",
      "  libpostproc    55.  9.100 / 55.  9.100\n",
      "Input #0, mov,mp4,m4a,3gp,3g2,mj2, from 'gt_12fps.mp4':\n",
      "  Metadata:\n",
      "    major_brand     : isom\n",
      "    minor_version   : 512\n",
      "    compatible_brands: isomiso2avc1mp41\n",
      "    encoder         : Lavf58.76.100\n",
      "  Duration: 00:00:30.00, start: 0.000000, bitrate: 361 kb/s\n",
      "  Stream #0:0(und): Video: h264 (High) (avc1 / 0x31637661), yuv420p, 512x512, 360 kb/s, 12 fps, 12 tbr, 12288 tbn, 24 tbc (default)\n",
      "    Metadata:\n",
      "      handler_name    : VideoHandler\n",
      "      vendor_id       : [0][0][0][0]\n",
      "Input #1, mov,mp4,m4a,3gp,3g2,mj2, from '../../output/20240801/val_rand100_around/2.0/vae/1e-4/chk199/lightning_logs/version_0/video.mp4':\n",
      "  Metadata:\n",
      "    major_brand     : isom\n",
      "    minor_version   : 512\n",
      "    compatible_brands: isomiso2avc1mp41\n",
      "    encoder         : Lavf58.76.100\n",
      "  Duration: 00:00:30.00, start: 0.000000, bitrate: 1604 kb/s\n",
      "  Stream #1:0(und): Video: h264 (High) (avc1 / 0x31637661), yuv420p, 512x512, 1603 kb/s, 12 fps, 12 tbr, 12288 tbn, 24 tbc (default)\n",
      "    Metadata:\n",
      "      handler_name    : VideoHandler\n",
      "      vendor_id       : [0][0][0][0]\n",
      "Stream mapping:\n",
      "  Stream #0:0 (h264) -> hstack:input0\n",
      "  Stream #1:0 (h264) -> hstack:input1\n",
      "  hstack -> Stream #0:0 (libx264)\n",
      "Press [q] to stop, [?] for help\n",
      "[libx264 @ 0x55d0d6b27e40] using cpu capabilities: MMX2 SSE2Fast SSSE3 SSE4.2 AVX FMA3 BMI2 AVX2\n",
      "[libx264 @ 0x55d0d6b27e40] profile High, level 3.1, 4:2:0, 8-bit\n",
      "[libx264 @ 0x55d0d6b27e40] 264 - core 163 r3060 5db6aa6 - H.264/MPEG-4 AVC codec - Copyleft 2003-2021 - http://www.videolan.org/x264.html - options: cabac=1 ref=3 deblock=1:0:0 analyse=0x3:0x113 me=hex subme=7 psy=1 psy_rd=1.00:0.00 mixed_ref=1 me_range=16 chroma_me=1 trellis=1 8x8dct=1 cqm=0 deadzone=21,11 fast_pskip=1 chroma_qp_offset=-2 threads=16 lookahead_threads=2 sliced_threads=0 nr=0 decimate=1 interlaced=0 bluray_compat=0 constrained_intra=0 bframes=3 b_pyramid=2 b_adapt=1 b_bias=0 direct=1 weightb=1 open_gop=0 weightp=2 keyint=250 keyint_min=12 scenecut=40 intra_refresh=0 rc_lookahead=40 rc=crf mbtree=1 crf=12.0 qcomp=0.60 qpmin=0 qpmax=69 qpstep=4 ip_ratio=1.40 aq=1:1.00\n",
      "Output #0, mp4, to '../../output/20240801/val_rand100_around/2.0/vae/1e-4/chk199/lightning_logs/version_0/compare.mp4':\n",
      "  Metadata:\n",
      "    major_brand     : isom\n",
      "    minor_version   : 512\n",
      "    compatible_brands: isomiso2avc1mp41\n",
      "    encoder         : Lavf58.76.100\n",
      "  Stream #0:0: Video: h264 (avc1 / 0x31637661), yuv420p(progressive), 1024x512, q=2-31, 12 fps, 12288 tbn (default)\n",
      "    Metadata:\n",
      "      encoder         : Lavc58.134.100 libx264\n",
      "    Side data:\n",
      "      cpb: bitrate max/min/avg: 0/0/0 buffer size: 0 vbv_delay: N/A\n",
      "frame=  360 fps=219 q=-1.0 Lsize=    7231kB time=00:00:29.75 bitrate=1991.0kbits/s speed=18.1x    \n",
      "video:7227kB audio:0kB subtitle:0kB other streams:0kB global headers:0kB muxing overhead: 0.056865%\n",
      "[libx264 @ 0x55d0d6b27e40] frame I:2     Avg QP: 3.79  size: 55816\n",
      "[libx264 @ 0x55d0d6b27e40] frame P:226   Avg QP: 5.76  size: 24321\n",
      "[libx264 @ 0x55d0d6b27e40] frame B:132   Avg QP: 6.67  size: 13569\n",
      "[libx264 @ 0x55d0d6b27e40] consecutive B-frames: 45.8% 15.6%  0.8% 37.8%\n",
      "[libx264 @ 0x55d0d6b27e40] mb I  I16..4: 43.9% 38.3% 17.8%\n",
      "[libx264 @ 0x55d0d6b27e40] mb P  I16..4: 11.2% 10.1%  1.9%  P16..4: 18.6%  4.7%  4.2%  0.0%  0.0%    skip:49.2%\n",
      "[libx264 @ 0x55d0d6b27e40] mb B  I16..4:  4.9%  2.5%  0.3%  B16..8: 13.5%  2.8%  1.6%  direct:17.2%  skip:57.2%  L0:46.0% L1:42.5% BI:11.5%\n",
      "[libx264 @ 0x55d0d6b27e40] 8x8 transform intra:41.6% inter:46.9%\n",
      "[libx264 @ 0x55d0d6b27e40] coded y,uvDC,uvAC intra: 42.7% 50.1% 48.1% inter: 21.1% 14.8% 10.8%\n",
      "[libx264 @ 0x55d0d6b27e40] i16 v,h,dc,p: 74% 14% 10%  2%\n",
      "[libx264 @ 0x55d0d6b27e40] i8 v,h,dc,ddl,ddr,vr,hd,vl,hu: 17% 13% 58%  2%  2%  2%  2%  2%  2%\n",
      "[libx264 @ 0x55d0d6b27e40] i4 v,h,dc,ddl,ddr,vr,hd,vl,hu: 23% 17% 21%  5%  6%  9%  7%  6%  6%\n",
      "[libx264 @ 0x55d0d6b27e40] i8c dc,h,v,p: 79% 10% 10%  1%\n",
      "[libx264 @ 0x55d0d6b27e40] Weighted P-Frames: Y:15.9% UV:8.4%\n",
      "[libx264 @ 0x55d0d6b27e40] ref P L0: 71.5% 17.0%  7.8%  3.0%  0.8%\n",
      "[libx264 @ 0x55d0d6b27e40] ref B L0: 89.0%  7.9%  3.2%\n",
      "[libx264 @ 0x55d0d6b27e40] ref B L1: 98.2%  1.8%\n",
      "[libx264 @ 0x55d0d6b27e40] kb/s:1973.14\n"
     ]
    },
    {
     "data": {
      "text/plain": [
       "0"
      ]
     },
     "execution_count": 21,
     "metadata": {},
     "output_type": "execute_result"
    }
   ],
   "source": [
    "if os.path.exists(COMPARE_VIDEO):\n",
    "    os.remove(COMPARE_VIDEO)\n",
    "os.system(f'ffmpeg -i {GT_VIDEO} -i {OUTPUT_VIDEO}  -c:v libx264 -crf 12 -pix_fmt yuv420p  -filter_complex hstack {COMPARE_VIDEO}')"
   ]
  },
  {
   "cell_type": "code",
   "execution_count": null,
   "metadata": {},
   "outputs": [],
   "source": []
  }
 ],
 "metadata": {
  "kernelspec": {
   "display_name": "venv_pytorch2.0",
   "language": "python",
   "name": "python3"
  },
  "language_info": {
   "codemirror_mode": {
    "name": "ipython",
    "version": 3
   },
   "file_extension": ".py",
   "mimetype": "text/x-python",
   "name": "python",
   "nbconvert_exporter": "python",
   "pygments_lexer": "ipython3",
   "version": "3.11.9"
  }
 },
 "nbformat": 4,
 "nbformat_minor": 2
}
