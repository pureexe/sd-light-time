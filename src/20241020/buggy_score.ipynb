{
 "cells": [
  {
   "cell_type": "code",
   "execution_count": 2,
   "metadata": {},
   "outputs": [],
   "source": [
    "import os\n",
    "import pandas as pd\n",
    "\n",
    "def read_psnr_file(filepath):\n",
    "    \"\"\"Read the PSNR value from a file and return it as a float.\"\"\"\n",
    "    try:\n",
    "        with open(filepath, 'r') as f:\n",
    "            content = f.read().strip()\n",
    "            return float(content)\n",
    "    except Exception as e:\n",
    "        print(f\"Error reading file {filepath}: {e}\")\n",
    "        return None\n",
    "\n",
    "def collect_psnr_values(base_path):\n",
    "    \"\"\"Collect PSNR values from the directory structure and return a dictionary.\"\"\"\n",
    "    psnr_data = {}\n",
    "    \n",
    "    for guidance in sorted(os.listdir(base_path)):\n",
    "        guidance_path = os.path.join(base_path, guidance)\n",
    "        \n",
    "        if os.path.isdir(guidance_path):\n",
    "            psnr_data[guidance] = {}\n",
    "            \n",
    "            for method in sorted(os.listdir(guidance_path)):\n",
    "                method_path = os.path.join(guidance_path, method)\n",
    "                \n",
    "                if os.path.isdir(method_path):\n",
    "                    psnr_values = []\n",
    "                    \n",
    "                    psnr_dir = os.path.join(method_path, \"1e-4\", \"chk79\", \"lightning_logs\", \"version_0\", \"psnr\")\n",
    "                    \n",
    "                    if os.path.isdir(psnr_dir):\n",
    "                        for filename in os.listdir(psnr_dir):\n",
    "                            file_path = os.path.join(psnr_dir, filename)\n",
    "                            psnr_value = read_psnr_file(file_path)\n",
    "                            \n",
    "                            if psnr_value is not None:\n",
    "                                psnr_values.append(psnr_value)\n",
    "                    \n",
    "                    # Take the average if we have any values\n",
    "                    if psnr_values:\n",
    "                        psnr_data[guidance][method] = sum(psnr_values) / len(psnr_values)\n",
    "                    else:\n",
    "                        psnr_data[guidance][method] = None\n",
    "    \n",
    "    return psnr_data\n",
    "\n",
    "def create_psnr_table(psnr_data):\n",
    "    \"\"\"Convert the PSNR data into a pandas DataFrame and display it.\"\"\"\n",
    "    df = pd.DataFrame(psnr_data).transpose()\n",
    "    return df"
   ]
  },
  {
   "cell_type": "code",
   "execution_count": 7,
   "metadata": {},
   "outputs": [
    {
     "name": "stdout",
     "output_type": "stream",
     "text": [
      "====== Buggy : TRAIN ======\n",
      "           bae   both_bae      depth  no_control\n",
      "1.0  15.286677  15.366551  15.108575   13.690850\n",
      "3.0  15.109994  15.731135  15.215025   13.166308\n",
      "5.0  14.774562  15.078004  15.219396   12.810450\n",
      "7.0  14.582945  12.935608  15.215199   12.554877\n"
     ]
    }
   ],
   "source": [
    "print(\"====== Buggy : TRAIN ======\")\n",
    "# Path to the base directory\n",
    "base_path = \"../../output/20240918/val_multillum_train/vae\"\n",
    "\n",
    "# Collect PSNR data\n",
    "psnr_data = collect_psnr_values(base_path)\n",
    "\n",
    "# Create and display the PSNR table\n",
    "psnr_table = create_psnr_table(psnr_data)\n",
    "print(psnr_table)"
   ]
  },
  {
   "cell_type": "code",
   "execution_count": null,
   "metadata": {},
   "outputs": [],
   "source": [
    "print(\"====== Fixed : TRAIN ======\")\n",
    "# Path to the base directory\n",
    "base_path = \"/pure/c2/project/sd-light-time/output/20241021/val_multillum_train\"\n",
    "\n",
    "# Collect PSNR data\n",
    "psnr_data = collect_psnr_values(base_path)\n",
    "\n",
    "# Create and display the PSNR table\n",
    "psnr_table = create_psnr_table(psnr_data)\n",
    "print(psnr_table)"
   ]
  },
  {
   "cell_type": "code",
   "execution_count": 3,
   "metadata": {},
   "outputs": [
    {
     "name": "stdout",
     "output_type": "stream",
     "text": [
      "====== Buggy : TEST ======\n",
      "           bae   both_bae      depth  no_control\n",
      "1.0  14.621822  14.770524  14.529186   13.325833\n",
      "3.0  13.177567  13.032902  13.078198   11.597867\n",
      "5.0  12.223750  11.896572  12.138612   10.787847\n",
      "7.0  11.551812  11.029759  11.500009   10.346868\n"
     ]
    }
   ],
   "source": [
    "print(\"====== Buggy : TEST ======\")\n",
    "# Path to the base directory\n",
    "base_path = \"../../output/20240918/val_multillum_test/vae\"\n",
    "\n",
    "# Collect PSNR data\n",
    "psnr_data = collect_psnr_values(base_path)\n",
    "\n",
    "# Create and display the PSNR table\n",
    "psnr_table = create_psnr_table(psnr_data)\n",
    "print(psnr_table)"
   ]
  },
  {
   "cell_type": "code",
   "execution_count": 5,
   "metadata": {},
   "outputs": [
    {
     "name": "stdout",
     "output_type": "stream",
     "text": [
      "====== Fixed : TEST ======\n",
      "           bae   both_bae      depth  no_control\n",
      "1.0  15.260054  15.338291  15.292766   14.885790\n",
      "3.0  12.959715  13.281940  12.967946   11.542898\n",
      "5.0  11.940510  12.319887  12.114201   11.018128\n",
      "7.0  11.353055  11.565895  11.620670   10.536071\n"
     ]
    }
   ],
   "source": [
    "print(\"====== Fixed : TEST ======\")\n",
    "# Path to the base directory\n",
    "base_path = \"/pure/c2/project/sd-light-time/output/20241021/val_multillum_test/vae\"\n",
    "\n",
    "# Collect PSNR data\n",
    "psnr_data = collect_psnr_values(base_path)\n",
    "\n",
    "# Create and display the PSNR table\n",
    "psnr_table = create_psnr_table(psnr_data)\n",
    "print(psnr_table)"
   ]
  },
  {
   "cell_type": "code",
   "execution_count": null,
   "metadata": {},
   "outputs": [],
   "source": []
  }
 ],
 "metadata": {
  "kernelspec": {
   "display_name": "venv_pytorch2.0",
   "language": "python",
   "name": "python3"
  },
  "language_info": {
   "codemirror_mode": {
    "name": "ipython",
    "version": 3
   },
   "file_extension": ".py",
   "mimetype": "text/x-python",
   "name": "python",
   "nbconvert_exporter": "python",
   "pygments_lexer": "ipython3",
   "version": "3.11.9"
  }
 },
 "nbformat": 4,
 "nbformat_minor": 2
}
