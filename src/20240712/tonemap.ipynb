{
 "cells": [
  {
   "cell_type": "code",
   "execution_count": 30,
   "metadata": {},
   "outputs": [],
   "source": [
    "import ezexr\n",
    "import numpy as np\n",
    "import skimage"
   ]
  },
  {
   "cell_type": "code",
   "execution_count": 31,
   "metadata": {},
   "outputs": [],
   "source": [
    "class TonemapHDR(object):\n",
    "    \"\"\"\n",
    "        Tonemap HDR image globally. First, we find alpha that maps the (max(numpy_img) * percentile) to max_mapping.\n",
    "        Then, we calculate I_out = alpha * I_in ^ (1/gamma)\n",
    "        input : nd.array batch of images : [H, W, C]\n",
    "        output : nd.array batch of images : [H, W, C]\n",
    "    \"\"\"\n",
    "\n",
    "    def __init__(self, gamma=2.4, percentile=50, max_mapping=0.5):\n",
    "        self.gamma = gamma\n",
    "        self.percentile = percentile\n",
    "        self.max_mapping = max_mapping  # the value to which alpha will map the (max(numpy_img) * percentile) to\n",
    "\n",
    "    def __call__(self, numpy_img, clip=True, alpha=None, gamma=True):\n",
    "        if gamma:\n",
    "            power_numpy_img = np.power(numpy_img, 1 / self.gamma)\n",
    "        else:\n",
    "            power_numpy_img = numpy_img\n",
    "        non_zero = power_numpy_img > 0\n",
    "        if non_zero.any():\n",
    "            r_percentile = np.percentile(power_numpy_img[non_zero], self.percentile)\n",
    "        else:\n",
    "            r_percentile = np.percentile(power_numpy_img, self.percentile)\n",
    "        if alpha is None:\n",
    "            alpha = self.max_mapping / (r_percentile + 1e-10)\n",
    "        tonemapped_img = np.multiply(alpha, power_numpy_img)\n",
    "\n",
    "        if clip:\n",
    "            tonemapped_img_clip = np.clip(tonemapped_img, 0, 1)\n",
    "\n",
    "        return tonemapped_img_clip.astype('float32'), alpha, tonemapped_img"
   ]
  },
  {
   "cell_type": "code",
   "execution_count": 32,
   "metadata": {},
   "outputs": [],
   "source": [
    "tonemap = TonemapHDR(gamma=2.4,percentile=90,max_mapping=0.9)"
   ]
  },
  {
   "cell_type": "code",
   "execution_count": null,
   "metadata": {},
   "outputs": [],
   "source": []
  },
  {
   "cell_type": "code",
   "execution_count": 38,
   "metadata": {},
   "outputs": [],
   "source": [
    "envmap = ezexr.imread(\"../../datasets/validation/studio_small_05/exr/00001/right1.exr\")\n",
    "ev0, _, _ = tonemap(envmap)\n",
    "ev0 = skimage.img_as_ubyte(ev0)\n",
    "skimage.io.imsave(\"../../datasets/validation/studio_small_05/ev0/00001/right1.png\", ev0)"
   ]
  },
  {
   "cell_type": "code",
   "execution_count": 11,
   "metadata": {},
   "outputs": [],
   "source": []
  },
  {
   "cell_type": "code",
   "execution_count": null,
   "metadata": {},
   "outputs": [],
   "source": []
  }
 ],
 "metadata": {
  "kernelspec": {
   "display_name": "venv_pytorch2.0",
   "language": "python",
   "name": "python3"
  },
  "language_info": {
   "codemirror_mode": {
    "name": "ipython",
    "version": 3
   },
   "file_extension": ".py",
   "mimetype": "text/x-python",
   "name": "python",
   "nbconvert_exporter": "python",
   "pygments_lexer": "ipython3",
   "version": "3.11.8"
  }
 },
 "nbformat": 4,
 "nbformat_minor": 2
}
