{
 "cells": [
  {
   "cell_type": "code",
   "execution_count": 44,
   "metadata": {},
   "outputs": [],
   "source": [
    "import ezexr\n",
    "import numpy as np\n",
    "import torch\n",
    "import skimage \n",
    "from envmap import EnvironmentMap, rotation_matrix"
   ]
  },
  {
   "cell_type": "code",
   "execution_count": 18,
   "metadata": {},
   "outputs": [],
   "source": [
    "original_env = ezexr.imread(\"../../datasets/studio_small_05/studio_small_05.exr\")"
   ]
  },
  {
   "cell_type": "code",
   "execution_count": 4,
   "metadata": {},
   "outputs": [
    {
     "data": {
      "text/plain": [
       "(512, 1024, 3)"
      ]
     },
     "execution_count": 4,
     "metadata": {},
     "output_type": "execute_result"
    }
   ],
   "source": [
    "original_env.shape"
   ]
  },
  {
   "cell_type": "code",
   "execution_count": 19,
   "metadata": {},
   "outputs": [],
   "source": [
    "target_env = ezexr.imread(\"/data2/pakkapon/relight/sd-light-time/datasets/face/face2000_single/exr/00000/00000.exr\")"
   ]
  },
  {
   "cell_type": "code",
   "execution_count": 20,
   "metadata": {},
   "outputs": [],
   "source": [
    "envmap = skimage.transform.resize(original_env, (256,512), mode='wrap', clip=False, preserve_range=True, anti_aliasing=True)"
   ]
  },
  {
   "cell_type": "code",
   "execution_count": 21,
   "metadata": {},
   "outputs": [
    {
     "data": {
      "text/plain": [
       "(256, 512, 3)"
      ]
     },
     "execution_count": 21,
     "metadata": {},
     "output_type": "execute_result"
    }
   ],
   "source": [
    "envmap.shape"
   ]
  },
  {
   "cell_type": "code",
   "execution_count": 12,
   "metadata": {},
   "outputs": [],
   "source": [
    "ezexr.imwrite(\"../../datasets/studio_small_05/v_left.exr\", envmap)"
   ]
  },
  {
   "cell_type": "code",
   "execution_count": 23,
   "metadata": {},
   "outputs": [],
   "source": [
    "# roll env to the right by half \n",
    "envmap_roll = np.roll(envmap.copy(), 256, axis=1)\n",
    "ezexr.imwrite(\"../../datasets/studio_small_05/v_right.exr\", envmap_roll)"
   ]
  },
  {
   "cell_type": "code",
   "execution_count": 24,
   "metadata": {},
   "outputs": [],
   "source": [
    "# roll env to the right by half \n",
    "envmap_roll = np.roll(envmap.copy(), 128, axis=1)\n",
    "ezexr.imwrite(\"../../datasets/studio_small_05/v_back.exr\", envmap_roll)"
   ]
  },
  {
   "cell_type": "code",
   "execution_count": 34,
   "metadata": {},
   "outputs": [],
   "source": [
    "# roll env to the right by half \n",
    "envmap_roll = np.roll(envmap.copy(), -128, axis=1)\n",
    "ezexr.imwrite(\"../../datasets/studio_small_05/v_front.exr\", envmap_roll)"
   ]
  },
  {
   "cell_type": "code",
   "execution_count": 65,
   "metadata": {},
   "outputs": [],
   "source": [
    "#original_env = ezexr.imread(\"../../datasets/studio_small_05/studio_small_05.exr\")\n",
    "envmap_latlong = EnvironmentMap('../../datasets/studio_small_05/studio_small_05.exr', 'latlong')\n"
   ]
  },
  {
   "cell_type": "code",
   "execution_count": 66,
   "metadata": {},
   "outputs": [],
   "source": [
    "dcm = rotation_matrix(azimuth=0,\n",
    "                      elevation=0,\n",
    "                      roll=np.pi/2)\n"
   ]
  },
  {
   "cell_type": "code",
   "execution_count": 67,
   "metadata": {},
   "outputs": [],
   "source": [
    "envmap_rotated = envmap_latlong.rotate(dcm)"
   ]
  },
  {
   "cell_type": "code",
   "execution_count": 68,
   "metadata": {},
   "outputs": [],
   "source": [
    "envmap_rotated = skimage.transform.resize(envmap_rotated.data.astype(np.float32), (256,512), mode='wrap', clip=False, preserve_range=True, anti_aliasing=True)\n",
    "ezexr.imwrite(\"../../datasets/studio_small_05/bottom.exr\", envmap_rotated)"
   ]
  },
  {
   "cell_type": "code",
   "execution_count": 50,
   "metadata": {},
   "outputs": [
    {
     "data": {
      "text/plain": [
       "<envmap.environmentmap.EnvironmentMap at 0x7f059c1c3090>"
      ]
     },
     "execution_count": 50,
     "metadata": {},
     "output_type": "execute_result"
    }
   ],
   "source": [
    "envmap_rotated"
   ]
  },
  {
   "cell_type": "code",
   "execution_count": 97,
   "metadata": {},
   "outputs": [],
   "source": [
    "#original_env = ezexr.imread(\"../../datasets/studio_small_05/studio_small_05.exr\")\n",
    "envmap_latlong = EnvironmentMap('../../datasets/polyhaven/rural_asphalt_road/rural_asphalt_road.exr', 'latlong')\n",
    "\n",
    "#dcm_a = rotation_matrix(azimuth=np.pi * 21/180, elevation=0, roll=0)\n",
    "dcm_b = rotation_matrix(azimuth=0, elevation=np.pi / 2 * 75/180, roll=0)\n",
    "dcm_a = rotation_matrix(azimuth=0, elevation=np.pi, roll=0)\n",
    "envmap_rotated = envmap_latlong.rotate(dcm_b)\n",
    "envmap_rotated = envmap_latlong.rotate(dcm_a)\n",
    "envmap_rotated = skimage.transform.resize(envmap_rotated.data.astype(np.float32), (256,512), mode='wrap', clip=False, preserve_range=True, anti_aliasing=True)\n",
    "ezexr.imwrite(\"../../datasets/polyhaven/rural_asphalt_road/back3.exr\", envmap_rotated)\n"
   ]
  },
  {
   "cell_type": "code",
   "execution_count": null,
   "metadata": {},
   "outputs": [],
   "source": []
  }
 ],
 "metadata": {
  "kernelspec": {
   "display_name": "venv_pytorch2.0",
   "language": "python",
   "name": "python3"
  },
  "language_info": {
   "codemirror_mode": {
    "name": "ipython",
    "version": 3
   },
   "file_extension": ".py",
   "mimetype": "text/x-python",
   "name": "python",
   "nbconvert_exporter": "python",
   "pygments_lexer": "ipython3",
   "version": "3.11.8"
  }
 },
 "nbformat": 4,
 "nbformat_minor": 2
}
