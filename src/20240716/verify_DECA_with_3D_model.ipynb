{
 "cells": [
  {
   "cell_type": "code",
   "execution_count": 1,
   "metadata": {},
   "outputs": [],
   "source": [
    "import os \n",
    "import torch \n",
    "import numpy as np\n",
    "from PIL import Image"
   ]
  },
  {
   "cell_type": "code",
   "execution_count": 2,
   "metadata": {},
   "outputs": [],
   "source": [
    "def applySHlight(normal_images, sh_coeff):\n",
    "  N = normal_images\n",
    "  sh = torch.stack(\n",
    "    [\n",
    "      N[0] * 0.0 + 1.0,\n",
    "      N[0],\n",
    "      N[1],\n",
    "      N[2],\n",
    "      N[0] * N[1],\n",
    "      N[0] * N[2],\n",
    "      N[1] * N[2],\n",
    "      N[0] ** 2 - N[1] ** 2,\n",
    "      3 * (N[2] ** 2) - 1,\n",
    "    ],\n",
    "    0,\n",
    "  )  # [9, h, w]\n",
    "  pi = np.pi\n",
    "  constant_factor = torch.tensor(\n",
    "    [\n",
    "      1 / np.sqrt(4 * pi), #confirmed\n",
    "      ((2 * pi) / 3) * (np.sqrt(3 / (4 * pi))),\n",
    "      ((2 * pi) / 3) * (np.sqrt(3 / (4 * pi))),\n",
    "      ((2 * pi) / 3) * (np.sqrt(3 / (4 * pi))),\n",
    "      (pi / 4) * (3) * (np.sqrt(5 / (12 * pi))),\n",
    "      (pi / 4) * (3) * (np.sqrt(5 / (12 * pi))),\n",
    "      (pi / 4) * (3) * (np.sqrt(5 / (12 * pi))),\n",
    "      (pi / 4) * (3 / 2) * (np.sqrt(5 / (12 * pi))),\n",
    "      (pi / 4) * (1 / 2) * (np.sqrt(5 / (4 * pi))),\n",
    "    ]\n",
    "  ).float()\n",
    "  sh = sh * constant_factor[:, None, None]\n",
    "\n",
    "  shading = torch.sum(\n",
    "    sh_coeff[:, :, None, None] * sh[:, None, :, :], 0\n",
    "  )  # [9, 3, h, w]\n",
    "\n",
    "  return shading\n"
   ]
  },
  {
   "cell_type": "code",
   "execution_count": 3,
   "metadata": {},
   "outputs": [],
   "source": [
    "def genSurfaceNormals(n):\n",
    "  x = torch.linspace(-1, 1, n)\n",
    "  y = torch.linspace(1, -1, n)\n",
    "  y, x = torch.meshgrid(y, x)\n",
    "\n",
    "  z = (1 - x ** 2 - y ** 2)\n",
    "  mask = z < 0\n",
    "  z[mask] = 0\n",
    "  z = torch.sqrt(z)\n",
    "  return torch.stack([x, y, z], 0), mask"
   ]
  },
  {
   "cell_type": "code",
   "execution_count": 4,
   "metadata": {},
   "outputs": [],
   "source": [
    "def applySHlightXYZ(xyz, sh):\n",
    "  out = applySHlight(xyz, sh)\n",
    "  #bar = torch.quantile(out, 0.99)\n",
    "  #out = out / bar \n",
    "  # out /= pt.max(out)\n",
    "  out *= 0.7\n",
    "  return torch.clip(out, 0, 1)"
   ]
  },
  {
   "cell_type": "code",
   "execution_count": 5,
   "metadata": {},
   "outputs": [],
   "source": [
    "def drawSphere(sh, img_size=256, is_back=False, white_bg=False):\n",
    "  n = img_size\n",
    "  xyz, mask = genSurfaceNormals(n)\n",
    "  if(is_back):\n",
    "    xyz[2] = xyz[2] * -1\n",
    "  if white_bg:\n",
    "    xyz[:, mask] = 1\n",
    "  out = applySHlightXYZ(xyz, sh)\n",
    "  out[:, xyz[2] == 0] = 0\n",
    "  return out"
   ]
  },
  {
   "cell_type": "code",
   "execution_count": 10,
   "metadata": {},
   "outputs": [],
   "source": [
    "def create_image_grid(images, rows=4, cols=4):\n",
    "  \"\"\"Creates an image grid of size 4x4 from a list of 16 PIL.Images.\n",
    "\n",
    "  Args:\n",
    "      images: A list of 16 PIL.Image objects.\n",
    "\n",
    "  Returns:\n",
    "      A new PIL.Image object containing the image grid.\n",
    "  \"\"\"\n",
    "  if len(images) != 16:\n",
    "    raise ValueError(\"List must contain exactly 16 images.\")\n",
    "\n",
    "  # Find the maximum width and height of the images\n",
    "  max_width = max(image.size[0] for image in images)\n",
    "  max_height = max(image.size[1] for image in images)\n",
    "\n",
    "  # Calculate the total width and height of the grid\n",
    "  grid_width = rows * max_width\n",
    "  grid_height = cols * max_height\n",
    "\n",
    "  # Create a new image for the grid\n",
    "  grid_image = Image.new('RGB', size=(grid_width, grid_height))\n",
    "\n",
    "  # Paste each image into the grid with padding\n",
    "  for i, image in enumerate(images):\n",
    "    row = i // rows\n",
    "    col = i % cols\n",
    "    x_offset = col * max_width\n",
    "    y_offset = row * max_height\n",
    "\n",
    "    # Paste the image with padding to center it within its grid cell\n",
    "    paste_box = (x_offset + (max_width - image.size[0]) // 2,\n",
    "                 y_offset + (max_height - image.size[1]) // 2,\n",
    "                 x_offset + max_width,\n",
    "                 y_offset + max_height)\n",
    "    grid_image.paste(image, box=paste_box)\n",
    "\n",
    "  return grid_image"
   ]
  },
  {
   "cell_type": "code",
   "execution_count": 11,
   "metadata": {},
   "outputs": [],
   "source": [
    "DIRECTIONS = ['left','right', 'bottom', 'top', 'back', 'front']"
   ]
  },
  {
   "cell_type": "code",
   "execution_count": null,
   "metadata": {},
   "outputs": [],
   "source": [
    "\n",
    "for image_id in [0]:\n",
    "    image_output = []\n",
    "    for direction in DIRECTIONS:\n",
    "        gt_image = f\"../../datasets/validation/angelica6axis_small05/images/{image_id:05d}/{direction}{image_id}.png\"\n",
    "        gt_image = Image.open(gt_image).resize((256, 256))\n",
    "        sh_coeff = np.load(f\"../../datasets/validation/angelica6axis_small05/light/{image_id:05d}/{direction}{image_id}_light.npy\")\n",
    "        sphere_image = drawSphere(sh_coeff, is_back=False, white_bg=False).permute(1,2,0).numpy()\n",
    "        sphere_image = Image.fromarray((sphere_image * 255).astype(np.uint8)).resize((256, 256))\n",
    "        # concate 2 image \n",
    "        concate_image = Image.new('RGB', (gt_image.width + sphere_image.width, gt_image.height))\n",
    "        concate_image.paste(gt_image, (0,0))\n",
    "        concate_image.paste(sphere_image, (gt_image.width, 0))\n",
    "        image_output.append(concate_image)\n",
    "    image_output = create_image_grid(image_output, rows=3, cols=2)\n",
    "    display(image_output)"
   ]
  }
 ],
 "metadata": {
  "kernelspec": {
   "display_name": "venv_pytorch2.0",
   "language": "python",
   "name": "python3"
  },
  "language_info": {
   "codemirror_mode": {
    "name": "ipython",
    "version": 3
   },
   "file_extension": ".py",
   "mimetype": "text/x-python",
   "name": "python",
   "nbconvert_exporter": "python",
   "pygments_lexer": "ipython3",
   "version": "3.11.8"
  }
 },
 "nbformat": 4,
 "nbformat_minor": 2
}
