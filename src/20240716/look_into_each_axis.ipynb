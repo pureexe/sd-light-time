{
 "cells": [
  {
   "cell_type": "code",
   "execution_count": 1,
   "metadata": {},
   "outputs": [],
   "source": [
    "import os \n",
    "import torch \n",
    "import numpy as np"
   ]
  },
  {
   "cell_type": "code",
   "execution_count": 2,
   "metadata": {},
   "outputs": [],
   "source": [
    "def applySHlight(normal_images, sh_coeff):\n",
    "  N = normal_images\n",
    "  sh = torch.stack(\n",
    "    [\n",
    "      N[0] * 0.0 + 1.0,\n",
    "      N[0],\n",
    "      N[1],\n",
    "      N[2],\n",
    "      N[0] * N[1],\n",
    "      N[0] * N[2],\n",
    "      N[1] * N[2],\n",
    "      N[0] ** 2 - N[1] ** 2,\n",
    "      3 * (N[2] ** 2) - 1,\n",
    "    ],\n",
    "    0,\n",
    "  )  # [9, h, w]\n",
    "  pi = np.pi\n",
    "  constant_factor = torch.tensor(\n",
    "    [\n",
    "      1 / np.sqrt(4 * pi), #confirmed\n",
    "      ((2 * pi) / 3) * (np.sqrt(3 / (4 * pi))),\n",
    "      ((2 * pi) / 3) * (np.sqrt(3 / (4 * pi))),\n",
    "      ((2 * pi) / 3) * (np.sqrt(3 / (4 * pi))),\n",
    "      (pi / 4) * (3) * (np.sqrt(5 / (12 * pi))),\n",
    "      (pi / 4) * (3) * (np.sqrt(5 / (12 * pi))),\n",
    "      (pi / 4) * (3) * (np.sqrt(5 / (12 * pi))),\n",
    "      (pi / 4) * (3 / 2) * (np.sqrt(5 / (12 * pi))),\n",
    "      (pi / 4) * (1 / 2) * (np.sqrt(5 / (4 * pi))),\n",
    "    ]\n",
    "  ).float()\n",
    "  sh = sh * constant_factor[:, None, None]\n",
    "\n",
    "  shading = torch.sum(\n",
    "    sh_coeff[:, :, None, None] * sh[:, None, :, :], 0\n",
    "  )  # [9, 3, h, w]\n",
    "\n",
    "  return shading\n"
   ]
  },
  {
   "cell_type": "code",
   "execution_count": 3,
   "metadata": {},
   "outputs": [],
   "source": [
    "def genSurfaceNormals(n):\n",
    "  x = torch.linspace(-1, 1, n)\n",
    "  y = torch.linspace(1, -1, n)\n",
    "  y, x = torch.meshgrid(y, x)\n",
    "\n",
    "  z = (1 - x ** 2 - y ** 2)\n",
    "  mask = z < 0\n",
    "  z[mask] = 0\n",
    "  z = torch.sqrt(z)\n",
    "  return torch.stack([x, y, z], 0), mask"
   ]
  },
  {
   "cell_type": "code",
   "execution_count": 5,
   "metadata": {},
   "outputs": [],
   "source": [
    "def applySHlightXYZ(xyz, sh):\n",
    "  out = applySHlight(xyz, sh)\n",
    "  bar = torch.quantile(out, 0.99)\n",
    "  out = out / bar \n",
    "  # out /= pt.max(out)\n",
    "  #out *= 0.7\n",
    "  return torch.clip(out, 0, 1)"
   ]
  },
  {
   "cell_type": "code",
   "execution_count": 6,
   "metadata": {},
   "outputs": [],
   "source": [
    "def drawSphere(sh, img_size=256, is_back=False, white_bg=False):\n",
    "  n = img_size\n",
    "  xyz, mask = genSurfaceNormals(n)\n",
    "  if(is_back):\n",
    "    xyz[2] = xyz[2] * -1\n",
    "  if white_bg:\n",
    "    xyz[:, mask] = 1\n",
    "  out = applySHlightXYZ(xyz, sh)\n",
    "  out[:, xyz[2] == 0] = 0\n",
    "  return out"
   ]
  },
  {
   "cell_type": "code",
   "execution_count": null,
   "metadata": {},
   "outputs": [],
   "source": [
    "for i in range(1, 10):\n",
    "  sh = torch.zeros(9)\n",
    "  sh[i] = 1\n",
    "  # make into [9,3]\n",
    "  sh = torch.cat([sh[...,None], sh[...,None], sh[...,None]], axis=1)\n",
    "  \n",
    "  out = drawSphere(sh, is_back=True, white_bg=True)\n",
    "  out = out.permute(1, 2, 0).numpy()\n",
    "  out = (out * 255).astype(np.uint8)\n",
    "  os.makedirs('sh', exist_ok=True)\n",
    "  from PIL import Image\n",
    "  Image.fromarray(out).save(f'sh/sh_{i}.png')"
   ]
  }
 ],
 "metadata": {
  "kernelspec": {
   "display_name": "venv_pytorch2.0",
   "language": "python",
   "name": "python3"
  },
  "language_info": {
   "codemirror_mode": {
    "name": "ipython",
    "version": 3
   },
   "file_extension": ".py",
   "mimetype": "text/x-python",
   "name": "python",
   "nbconvert_exporter": "python",
   "pygments_lexer": "ipython3",
   "version": "3.11.8"
  }
 },
 "nbformat": 4,
 "nbformat_minor": 2
}
