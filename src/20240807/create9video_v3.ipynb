{
 "cells": [
  {
   "cell_type": "code",
   "execution_count": 7,
   "metadata": {},
   "outputs": [],
   "source": [
    "CHKPT = 2\n",
    "input_dirs = []\n",
    "for learning_rate in [ \"5e-4\", \"1e-4\", \"5e-5\"]:\n",
    "    for guidance in ['1.0', '3.0', '5.0', '7.0']:\n",
    "        input_dirs.append(f\"../../output/20240811/val_val_z/{guidance}/with_consistnacy/{learning_rate}/chk{CHKPT}/lightning_logs/version_0\")\n",
    "output_dir = \"../../output/20240811/output_video/with_consistancy_chk2\""
   ]
  },
  {
   "cell_type": "code",
   "execution_count": 8,
   "metadata": {},
   "outputs": [
    {
     "data": {
      "text/plain": [
       "'../../output/20240811/output_video/with_consistancy_chk2'"
      ]
     },
     "execution_count": 8,
     "metadata": {},
     "output_type": "execute_result"
    }
   ],
   "source": [
    "output_dir"
   ]
  },
  {
   "cell_type": "code",
   "execution_count": 9,
   "metadata": {},
   "outputs": [],
   "source": [
    "import os\n",
    "import shutil"
   ]
  },
  {
   "cell_type": "code",
   "execution_count": 10,
   "metadata": {},
   "outputs": [
    {
     "data": {
      "text/plain": [
       "['../../output/20240811/val_val_z/1.0/with_consistnacy/5e-4/chk2/lightning_logs/version_0',\n",
       " '../../output/20240811/val_val_z/3.0/with_consistnacy/5e-4/chk2/lightning_logs/version_0',\n",
       " '../../output/20240811/val_val_z/5.0/with_consistnacy/5e-4/chk2/lightning_logs/version_0',\n",
       " '../../output/20240811/val_val_z/7.0/with_consistnacy/5e-4/chk2/lightning_logs/version_0',\n",
       " '../../output/20240811/val_val_z/1.0/with_consistnacy/1e-4/chk2/lightning_logs/version_0',\n",
       " '../../output/20240811/val_val_z/3.0/with_consistnacy/1e-4/chk2/lightning_logs/version_0',\n",
       " '../../output/20240811/val_val_z/5.0/with_consistnacy/1e-4/chk2/lightning_logs/version_0',\n",
       " '../../output/20240811/val_val_z/7.0/with_consistnacy/1e-4/chk2/lightning_logs/version_0',\n",
       " '../../output/20240811/val_val_z/1.0/with_consistnacy/5e-5/chk2/lightning_logs/version_0',\n",
       " '../../output/20240811/val_val_z/3.0/with_consistnacy/5e-5/chk2/lightning_logs/version_0',\n",
       " '../../output/20240811/val_val_z/5.0/with_consistnacy/5e-5/chk2/lightning_logs/version_0',\n",
       " '../../output/20240811/val_val_z/7.0/with_consistnacy/5e-5/chk2/lightning_logs/version_0']"
      ]
     },
     "execution_count": 10,
     "metadata": {},
     "output_type": "execute_result"
    }
   ],
   "source": [
    "input_dirs"
   ]
  },
  {
   "cell_type": "code",
   "execution_count": 11,
   "metadata": {},
   "outputs": [
    {
     "name": "stdout",
     "output_type": "stream",
     "text": [
      "---------------------------------\n",
      "../../output/20240811/val_val_z/1.0/with_consistnacy/5e-4/chk2/lightning_logs/version_0/crop_image\n",
      "---------------------------------\n"
     ]
    },
    {
     "name": "stderr",
     "output_type": "stream",
     "text": [
      "ffmpeg version 4.4.2-0ubuntu0.22.04.1 Copyright (c) 2000-2021 the FFmpeg developers\n",
      "  built with gcc 11 (Ubuntu 11.2.0-19ubuntu1)\n",
      "  configuration: --prefix=/usr --extra-version=0ubuntu0.22.04.1 --toolchain=hardened --libdir=/usr/lib/x86_64-linux-gnu --incdir=/usr/include/x86_64-linux-gnu --arch=amd64 --enable-gpl --disable-stripping --enable-gnutls --enable-ladspa --enable-libaom --enable-libass --enable-libbluray --enable-libbs2b --enable-libcaca --enable-libcdio --enable-libcodec2 --enable-libdav1d --enable-libflite --enable-libfontconfig --enable-libfreetype --enable-libfribidi --enable-libgme --enable-libgsm --enable-libjack --enable-libmp3lame --enable-libmysofa --enable-libopenjpeg --enable-libopenmpt --enable-libopus --enable-libpulse --enable-librabbitmq --enable-librubberband --enable-libshine --enable-libsnappy --enable-libsoxr --enable-libspeex --enable-libsrt --enable-libssh --enable-libtheora --enable-libtwolame --enable-libvidstab --enable-libvorbis --enable-libvpx --enable-libwebp --enable-libx265 --enable-libxml2 --enable-libxvid --enable-libzimg --enable-libzmq --enable-libzvbi --enable-lv2 --enable-omx --enable-openal --enable-opencl --enable-opengl --enable-sdl2 --enable-pocketsphinx --enable-librsvg --enable-libmfx --enable-libdc1394 --enable-libdrm --enable-libiec61883 --enable-chromaprint --enable-frei0r --enable-libx264 --enable-shared\n",
      "  libavutil      56. 70.100 / 56. 70.100\n",
      "  libavcodec     58.134.100 / 58.134.100\n",
      "  libavformat    58. 76.100 / 58. 76.100\n",
      "  libavdevice    58. 13.100 / 58. 13.100\n",
      "  libavfilter     7.110.100 /  7.110.100\n",
      "  libswscale      5.  9.100 /  5.  9.100\n",
      "  libswresample   3.  9.100 /  3.  9.100\n",
      "  libpostproc    55.  9.100 / 55.  9.100\n",
      "Input #0, image2, from '../../output/20240811/val_val_z/1.0/with_consistnacy/5e-4/chk2/lightning_logs/version_0/frame/%05d.png':\n",
      "  Duration: 00:00:02.40, start: 0.000000, bitrate: N/A\n",
      "  Stream #0:0: Video: png, rgb24(pc), 512x512, 25 fps, 25 tbr, 25 tbn, 25 tbc\n",
      "Stream mapping:\n",
      "  Stream #0:0 -> #0:0 (png (native) -> h264 (libx264))\n",
      "Press [q] to stop, [?] for help\n",
      "[libx264 @ 0x56209021a600] using cpu capabilities: MMX2 SSE2Fast SSSE3 SSE4.2 AVX FMA3 BMI2 AVX2\n",
      "[libx264 @ 0x56209021a600] profile High, level 2.2, 4:2:0, 8-bit\n",
      "[libx264 @ 0x56209021a600] 264 - core 163 r3060 5db6aa6 - H.264/MPEG-4 AVC codec - Copyleft 2003-2021 - http://www.videolan.org/x264.html - options: cabac=1 ref=3 deblock=1:0:0 analyse=0x3:0x113 me=hex subme=7 psy=1 psy_rd=1.00:0.00 mixed_ref=1 me_range=16 chroma_me=1 trellis=1 8x8dct=1 cqm=0 deadzone=21,11 fast_pskip=1 chroma_qp_offset=-2 threads=16 lookahead_threads=2 sliced_threads=0 nr=0 decimate=1 interlaced=0 bluray_compat=0 constrained_intra=0 bframes=3 b_pyramid=2 b_adapt=1 b_bias=0 direct=1 weightb=1 open_gop=0 weightp=2 keyint=250 keyint_min=6 scenecut=40 intra_refresh=0 rc_lookahead=40 rc=crf mbtree=1 crf=12.0 qcomp=0.60 qpmin=0 qpmax=69 qpstep=4 ip_ratio=1.40 aq=1:1.00\n",
      "Output #0, mp4, to '../../output/20240811/output_video/with_consistancy_chk2/00.mp4':\n",
      "  Metadata:\n",
      "    encoder         : Lavf58.76.100\n",
      "  Stream #0:0: Video: h264 (avc1 / 0x31637661), yuv420p(tv, progressive), 512x512, q=2-31, 6 fps, 12288 tbn\n",
      "    Metadata:\n",
      "      encoder         : Lavc58.134.100 libx264\n",
      "    Side data:\n",
      "      cpb: bitrate max/min/avg: 0/0/0 buffer size: 0 vbv_delay: N/A\n",
      "frame=   60 fps=0.0 q=-1.0 Lsize=    2491kB time=00:00:09.50 bitrate=2147.7kbits/s speed=  23x    \n",
      "video:2489kB audio:0kB subtitle:0kB other streams:0kB global headers:0kB muxing overhead: 0.055552%\n",
      "[libx264 @ 0x56209021a600] frame I:1     Avg QP: 7.05  size:200809\n",
      "[libx264 @ 0x56209021a600] frame P:39    Avg QP: 8.89  size: 54041\n",
      "[libx264 @ 0x56209021a600] frame B:20    Avg QP:14.75  size: 11994\n",
      "[libx264 @ 0x56209021a600] consecutive B-frames: 48.3% 16.7% 15.0% 20.0%\n",
      "[libx264 @ 0x56209021a600] mb I  I16..4:  6.1% 25.6% 68.4%\n",
      "[libx264 @ 0x56209021a600] mb P  I16..4:  0.0%  0.2%  1.0%  P16..4: 78.0%  8.9%  9.0%  0.0%  0.0%    skip: 2.8%\n",
      "[libx264 @ 0x56209021a600] mb B  I16..4:  0.0%  0.0%  0.0%  B16..8: 34.7%  3.1%  3.1%  direct:11.6%  skip:47.5%  L0:45.8% L1:44.9% BI: 9.3%\n",
      "[libx264 @ 0x56209021a600] 8x8 transform intra:23.4% inter:40.6%\n",
      "[libx264 @ 0x56209021a600] coded y,uvDC,uvAC intra: 99.9% 100.0% 100.0% inter: 70.3% 38.2% 27.2%\n",
      "[libx264 @ 0x56209021a600] i16 v,h,dc,p: 23%  3% 45% 29%\n",
      "[libx264 @ 0x56209021a600] i8 v,h,dc,ddl,ddr,vr,hd,vl,hu: 26%  9% 14%  7%  6%  9%  7% 12%  9%\n",
      "[libx264 @ 0x56209021a600] i4 v,h,dc,ddl,ddr,vr,hd,vl,hu: 25%  8% 10%  8%  8% 11%  7% 12% 10%\n",
      "[libx264 @ 0x56209021a600] i8c dc,h,v,p: 51% 12% 24% 13%\n",
      "[libx264 @ 0x56209021a600] Weighted P-Frames: Y:0.0% UV:0.0%\n",
      "[libx264 @ 0x56209021a600] ref P L0: 82.6% 12.3%  3.9%  1.1%\n",
      "[libx264 @ 0x56209021a600] ref B L0: 92.8%  7.1%  0.2%\n",
      "[libx264 @ 0x56209021a600] ref B L1: 99.9%  0.1%\n",
      "[libx264 @ 0x56209021a600] kb/s:2038.63\n",
      "ffmpeg version 4.4.2-0ubuntu0.22.04.1 Copyright (c) 2000-2021 the FFmpeg developers\n",
      "  built with gcc 11 (Ubuntu 11.2.0-19ubuntu1)\n",
      "  configuration: --prefix=/usr --extra-version=0ubuntu0.22.04.1 --toolchain=hardened --libdir=/usr/lib/x86_64-linux-gnu --incdir=/usr/include/x86_64-linux-gnu --arch=amd64 --enable-gpl --disable-stripping --enable-gnutls --enable-ladspa --enable-libaom --enable-libass --enable-libbluray --enable-libbs2b --enable-libcaca --enable-libcdio --enable-libcodec2 --enable-libdav1d --enable-libflite --enable-libfontconfig --enable-libfreetype --enable-libfribidi --enable-libgme --enable-libgsm --enable-libjack --enable-libmp3lame --enable-libmysofa --enable-libopenjpeg --enable-libopenmpt --enable-libopus --enable-libpulse --enable-librabbitmq --enable-librubberband --enable-libshine --enable-libsnappy --enable-libsoxr --enable-libspeex --enable-libsrt --enable-libssh --enable-libtheora --enable-libtwolame --enable-libvidstab --enable-libvorbis --enable-libvpx --enable-libwebp --enable-libx265 --enable-libxml2 --enable-libxvid --enable-libzimg --enable-libzmq --enable-libzvbi --enable-lv2 --enable-omx --enable-openal --enable-opencl --enable-opengl --enable-sdl2 --enable-pocketsphinx --enable-librsvg --enable-libmfx --enable-libdc1394 --enable-libdrm --enable-libiec61883 --enable-chromaprint --enable-frei0r --enable-libx264 --enable-shared\n",
      "  libavutil      56. 70.100 / 56. 70.100\n",
      "  libavcodec     58.134.100 / 58.134.100\n",
      "  libavformat    58. 76.100 / 58. 76.100\n",
      "  libavdevice    58. 13.100 / 58. 13.100\n",
      "  libavfilter     7.110.100 /  7.110.100\n",
      "  libswscale      5.  9.100 /  5.  9.100\n",
      "  libswresample   3.  9.100 /  3.  9.100\n",
      "  libpostproc    55.  9.100 / 55.  9.100\n",
      "Input #0, image2, from '../../output/20240811/val_val_z/3.0/with_consistnacy/5e-4/chk2/lightning_logs/version_0/frame/%05d.png':\n",
      "  Duration: 00:00:02.40, start: 0.000000, bitrate: N/A\n",
      "  Stream #0:0: Video: png, rgb24(pc), 512x512, 25 fps, 25 tbr, 25 tbn, 25 tbc\n",
      "Stream mapping:\n",
      "  Stream #0:0 -> #0:0 (png (native) -> h264 (libx264))\n",
      "Press [q] to stop, [?] for help\n"
     ]
    },
    {
     "name": "stdout",
     "output_type": "stream",
     "text": [
      "---------------------------------\n",
      "../../output/20240811/val_val_z/3.0/with_consistnacy/5e-4/chk2/lightning_logs/version_0/crop_image\n",
      "---------------------------------\n"
     ]
    },
    {
     "name": "stderr",
     "output_type": "stream",
     "text": [
      "[libx264 @ 0x55886ae1f700] using cpu capabilities: MMX2 SSE2Fast SSSE3 SSE4.2 AVX FMA3 BMI2 AVX2\n",
      "[libx264 @ 0x55886ae1f700] profile High, level 2.2, 4:2:0, 8-bit\n",
      "[libx264 @ 0x55886ae1f700] 264 - core 163 r3060 5db6aa6 - H.264/MPEG-4 AVC codec - Copyleft 2003-2021 - http://www.videolan.org/x264.html - options: cabac=1 ref=3 deblock=1:0:0 analyse=0x3:0x113 me=hex subme=7 psy=1 psy_rd=1.00:0.00 mixed_ref=1 me_range=16 chroma_me=1 trellis=1 8x8dct=1 cqm=0 deadzone=21,11 fast_pskip=1 chroma_qp_offset=-2 threads=16 lookahead_threads=2 sliced_threads=0 nr=0 decimate=1 interlaced=0 bluray_compat=0 constrained_intra=0 bframes=3 b_pyramid=2 b_adapt=1 b_bias=0 direct=1 weightb=1 open_gop=0 weightp=2 keyint=250 keyint_min=6 scenecut=40 intra_refresh=0 rc_lookahead=40 rc=crf mbtree=1 crf=12.0 qcomp=0.60 qpmin=0 qpmax=69 qpstep=4 ip_ratio=1.40 aq=1:1.00\n",
      "Output #0, mp4, to '../../output/20240811/output_video/with_consistancy_chk2/01.mp4':\n",
      "  Metadata:\n",
      "    encoder         : Lavf58.76.100\n",
      "  Stream #0:0: Video: h264 (avc1 / 0x31637661), yuv420p(tv, progressive), 512x512, q=2-31, 6 fps, 12288 tbn\n",
      "    Metadata:\n",
      "      encoder         : Lavc58.134.100 libx264\n",
      "    Side data:\n",
      "      cpb: bitrate max/min/avg: 0/0/0 buffer size: 0 vbv_delay: N/A\n",
      "frame=   60 fps=0.0 q=-1.0 Lsize=    2888kB time=00:00:09.50 bitrate=2490.7kbits/s speed=20.2x    \n",
      "video:2887kB audio:0kB subtitle:0kB other streams:0kB global headers:0kB muxing overhead: 0.047492%\n",
      "[libx264 @ 0x55886ae1f700] frame I:1     Avg QP: 8.74  size:178004\n",
      "[libx264 @ 0x55886ae1f700] frame P:41    Avg QP: 9.17  size: 57796\n",
      "[libx264 @ 0x55886ae1f700] frame B:18    Avg QP:14.90  size: 22664\n",
      "[libx264 @ 0x55886ae1f700] consecutive B-frames: 51.7% 20.0% 15.0% 13.3%\n",
      "[libx264 @ 0x55886ae1f700] mb I  I16..4:  0.4% 35.1% 64.6%\n",
      "[libx264 @ 0x55886ae1f700] mb P  I16..4:  0.1%  0.7%  1.5%  P16..4: 74.6% 11.9% 10.5%  0.0%  0.0%    skip: 0.7%\n",
      "[libx264 @ 0x55886ae1f700] mb B  I16..4:  0.0%  0.3%  0.8%  B16..8: 31.5%  6.8%  5.5%  direct:18.1%  skip:37.0%  L0:45.8% L1:40.2% BI:13.9%\n",
      "[libx264 @ 0x55886ae1f700] 8x8 transform intra:32.8% inter:45.9%\n",
      "[libx264 @ 0x55886ae1f700] coded y,uvDC,uvAC intra: 99.1% 99.1% 98.3% inter: 79.9% 57.0% 40.9%\n",
      "[libx264 @ 0x55886ae1f700] i16 v,h,dc,p: 39% 32% 23%  6%\n",
      "[libx264 @ 0x55886ae1f700] i8 v,h,dc,ddl,ddr,vr,hd,vl,hu: 31% 11% 16%  6%  5%  8%  5%  9%  9%\n",
      "[libx264 @ 0x55886ae1f700] i4 v,h,dc,ddl,ddr,vr,hd,vl,hu: 28%  9% 10%  7%  8% 10%  7% 11%  9%\n",
      "[libx264 @ 0x55886ae1f700] i8c dc,h,v,p: 40% 12% 38% 10%\n",
      "[libx264 @ 0x55886ae1f700] Weighted P-Frames: Y:2.4% UV:0.0%\n",
      "[libx264 @ 0x55886ae1f700] ref P L0: 75.9% 15.5%  3.0%  3.2%  2.4%\n",
      "[libx264 @ 0x55886ae1f700] ref B L0: 91.0%  8.6%  0.4%\n",
      "[libx264 @ 0x55886ae1f700] ref B L1: 97.1%  2.9%\n",
      "[libx264 @ 0x55886ae1f700] kb/s:2364.47\n"
     ]
    },
    {
     "name": "stdout",
     "output_type": "stream",
     "text": [
      "---------------------------------\n",
      "../../output/20240811/val_val_z/5.0/with_consistnacy/5e-4/chk2/lightning_logs/version_0/crop_image\n",
      "---------------------------------\n"
     ]
    },
    {
     "name": "stderr",
     "output_type": "stream",
     "text": [
      "ffmpeg version 4.4.2-0ubuntu0.22.04.1 Copyright (c) 2000-2021 the FFmpeg developers\n",
      "  built with gcc 11 (Ubuntu 11.2.0-19ubuntu1)\n",
      "  configuration: --prefix=/usr --extra-version=0ubuntu0.22.04.1 --toolchain=hardened --libdir=/usr/lib/x86_64-linux-gnu --incdir=/usr/include/x86_64-linux-gnu --arch=amd64 --enable-gpl --disable-stripping --enable-gnutls --enable-ladspa --enable-libaom --enable-libass --enable-libbluray --enable-libbs2b --enable-libcaca --enable-libcdio --enable-libcodec2 --enable-libdav1d --enable-libflite --enable-libfontconfig --enable-libfreetype --enable-libfribidi --enable-libgme --enable-libgsm --enable-libjack --enable-libmp3lame --enable-libmysofa --enable-libopenjpeg --enable-libopenmpt --enable-libopus --enable-libpulse --enable-librabbitmq --enable-librubberband --enable-libshine --enable-libsnappy --enable-libsoxr --enable-libspeex --enable-libsrt --enable-libssh --enable-libtheora --enable-libtwolame --enable-libvidstab --enable-libvorbis --enable-libvpx --enable-libwebp --enable-libx265 --enable-libxml2 --enable-libxvid --enable-libzimg --enable-libzmq --enable-libzvbi --enable-lv2 --enable-omx --enable-openal --enable-opencl --enable-opengl --enable-sdl2 --enable-pocketsphinx --enable-librsvg --enable-libmfx --enable-libdc1394 --enable-libdrm --enable-libiec61883 --enable-chromaprint --enable-frei0r --enable-libx264 --enable-shared\n",
      "  libavutil      56. 70.100 / 56. 70.100\n",
      "  libavcodec     58.134.100 / 58.134.100\n",
      "  libavformat    58. 76.100 / 58. 76.100\n",
      "  libavdevice    58. 13.100 / 58. 13.100\n",
      "  libavfilter     7.110.100 /  7.110.100\n",
      "  libswscale      5.  9.100 /  5.  9.100\n",
      "  libswresample   3.  9.100 /  3.  9.100\n",
      "  libpostproc    55.  9.100 / 55.  9.100\n",
      "Input #0, image2, from '../../output/20240811/val_val_z/5.0/with_consistnacy/5e-4/chk2/lightning_logs/version_0/frame/%05d.png':\n",
      "  Duration: 00:00:02.40, start: 0.000000, bitrate: N/A\n",
      "  Stream #0:0: Video: png, rgb24(pc), 512x512, 25 fps, 25 tbr, 25 tbn, 25 tbc\n",
      "Stream mapping:\n",
      "  Stream #0:0 -> #0:0 (png (native) -> h264 (libx264))\n",
      "Press [q] to stop, [?] for help\n",
      "[libx264 @ 0x563b10add700] using cpu capabilities: MMX2 SSE2Fast SSSE3 SSE4.2 AVX FMA3 BMI2 AVX2\n",
      "[libx264 @ 0x563b10add700] profile High, level 2.2, 4:2:0, 8-bit\n",
      "[libx264 @ 0x563b10add700] 264 - core 163 r3060 5db6aa6 - H.264/MPEG-4 AVC codec - Copyleft 2003-2021 - http://www.videolan.org/x264.html - options: cabac=1 ref=3 deblock=1:0:0 analyse=0x3:0x113 me=hex subme=7 psy=1 psy_rd=1.00:0.00 mixed_ref=1 me_range=16 chroma_me=1 trellis=1 8x8dct=1 cqm=0 deadzone=21,11 fast_pskip=1 chroma_qp_offset=-2 threads=16 lookahead_threads=2 sliced_threads=0 nr=0 decimate=1 interlaced=0 bluray_compat=0 constrained_intra=0 bframes=3 b_pyramid=2 b_adapt=1 b_bias=0 direct=1 weightb=1 open_gop=0 weightp=2 keyint=250 keyint_min=6 scenecut=40 intra_refresh=0 rc_lookahead=40 rc=crf mbtree=1 crf=12.0 qcomp=0.60 qpmin=0 qpmax=69 qpstep=4 ip_ratio=1.40 aq=1:1.00\n",
      "Output #0, mp4, to '../../output/20240811/output_video/with_consistancy_chk2/02.mp4':\n",
      "  Metadata:\n",
      "    encoder         : Lavf58.76.100\n",
      "  Stream #0:0: Video: h264 (avc1 / 0x31637661), yuv420p(tv, progressive), 512x512, q=2-31, 6 fps, 12288 tbn\n",
      "    Metadata:\n",
      "      encoder         : Lavc58.134.100 libx264\n",
      "    Side data:\n",
      "      cpb: bitrate max/min/avg: 0/0/0 buffer size: 0 vbv_delay: N/A\n",
      "frame=    1 fps=0.0 q=0.0 size=       0kB time=00:00:00.00 bitrate=N/A speed=   0x    \r"
     ]
    },
    {
     "name": "stdout",
     "output_type": "stream",
     "text": [
      "---------------------------------\n",
      "../../output/20240811/val_val_z/7.0/with_consistnacy/5e-4/chk2/lightning_logs/version_0/crop_image\n",
      "---------------------------------\n"
     ]
    },
    {
     "name": "stderr",
     "output_type": "stream",
     "text": [
      "frame=   60 fps=0.0 q=-1.0 Lsize=    4005kB time=00:00:09.50 bitrate=3453.8kbits/s speed=17.3x    \n",
      "video:4004kB audio:0kB subtitle:0kB other streams:0kB global headers:0kB muxing overhead: 0.038148%\n",
      "[libx264 @ 0x563b10add700] frame I:1     Avg QP:11.32  size:146597\n",
      "[libx264 @ 0x563b10add700] frame P:25    Avg QP:10.70  size: 86774\n",
      "[libx264 @ 0x563b10add700] frame B:34    Avg QP:14.24  size: 52448\n",
      "[libx264 @ 0x563b10add700] consecutive B-frames: 20.0% 10.0% 10.0% 60.0%\n",
      "[libx264 @ 0x563b10add700] mb I  I16..4:  1.7% 40.0% 58.3%\n",
      "[libx264 @ 0x563b10add700] mb P  I16..4:  0.2% 10.1% 12.0%  P16..4: 43.6% 18.4% 15.4%  0.0%  0.0%    skip: 0.3%\n",
      "[libx264 @ 0x563b10add700] mb B  I16..4:  0.0%  1.6%  4.8%  B16..8: 21.1% 12.8% 14.8%  direct:34.3%  skip:10.7%  L0:38.5% L1:34.8% BI:26.8%\n",
      "[libx264 @ 0x563b10add700] 8x8 transform intra:39.6% inter:43.0%\n",
      "[libx264 @ 0x563b10add700] coded y,uvDC,uvAC intra: 99.6% 99.2% 97.4% inter: 87.1% 59.1% 28.0%\n",
      "[libx264 @ 0x563b10add700] i16 v,h,dc,p: 20%  7% 19% 54%\n",
      "[libx264 @ 0x563b10add700] i8 v,h,dc,ddl,ddr,vr,hd,vl,hu: 30%  7% 15%  8%  4%  6%  4%  9% 17%\n",
      "[libx264 @ 0x563b10add700] i4 v,h,dc,ddl,ddr,vr,hd,vl,hu: 16% 10% 11% 11%  8%  9%  7% 12% 15%\n",
      "[libx264 @ 0x563b10add700] i8c dc,h,v,p: 45%  9% 38%  8%\n",
      "[libx264 @ 0x563b10add700] Weighted P-Frames: Y:24.0% UV:24.0%\n",
      "[libx264 @ 0x563b10add700] ref P L0: 64.3% 21.9%  4.3%  5.9%  3.6%\n",
      "[libx264 @ 0x563b10add700] ref B L0: 85.2%  7.9%  6.9%\n",
      "[libx264 @ 0x563b10add700] ref B L1: 95.4%  4.6%\n",
      "[libx264 @ 0x563b10add700] kb/s:3279.35\n"
     ]
    },
    {
     "ename": "FileNotFoundError",
     "evalue": "[Errno 2] No such file or directory: '../../output/20240811/val_val_z/7.0/with_consistnacy/5e-4/chk2/lightning_logs/version_0/crop_image/00031.png'",
     "output_type": "error",
     "traceback": [
      "\u001b[0;31m---------------------------------------------------------------------------\u001b[0m",
      "\u001b[0;31mFileNotFoundError\u001b[0m                         Traceback (most recent call last)",
      "Cell \u001b[0;32mIn[11], line 9\u001b[0m\n\u001b[1;32m      7\u001b[0m os\u001b[38;5;241m.\u001b[39mmakedirs(frame_dir, exist_ok\u001b[38;5;241m=\u001b[39m\u001b[38;5;28;01mTrue\u001b[39;00m)\n\u001b[1;32m      8\u001b[0m \u001b[38;5;28;01mfor\u001b[39;00m i \u001b[38;5;129;01min\u001b[39;00m \u001b[38;5;28mrange\u001b[39m(\u001b[38;5;241m60\u001b[39m):\n\u001b[0;32m----> 9\u001b[0m     \u001b[43mshutil\u001b[49m\u001b[38;5;241;43m.\u001b[39;49m\u001b[43mcopy\u001b[49m\u001b[43m(\u001b[49m\u001b[38;5;124;43mf\u001b[39;49m\u001b[38;5;124;43m\"\u001b[39;49m\u001b[38;5;132;43;01m{\u001b[39;49;00m\u001b[43mcrop_dir\u001b[49m\u001b[38;5;132;43;01m}\u001b[39;49;00m\u001b[38;5;124;43m/\u001b[39;49m\u001b[38;5;132;43;01m{\u001b[39;49;00m\u001b[43mi\u001b[49m\u001b[38;5;132;43;01m:\u001b[39;49;00m\u001b[38;5;124;43m05d\u001b[39;49m\u001b[38;5;132;43;01m}\u001b[39;49;00m\u001b[38;5;124;43m.png\u001b[39;49m\u001b[38;5;124;43m\"\u001b[39;49m\u001b[43m,\u001b[49m\u001b[43m \u001b[49m\u001b[38;5;124;43mf\u001b[39;49m\u001b[38;5;124;43m\"\u001b[39;49m\u001b[38;5;132;43;01m{\u001b[39;49;00m\u001b[43mframe_dir\u001b[49m\u001b[38;5;132;43;01m}\u001b[39;49;00m\u001b[38;5;124;43m/\u001b[39;49m\u001b[38;5;132;43;01m{\u001b[39;49;00m\u001b[43mi\u001b[49m\u001b[38;5;132;43;01m:\u001b[39;49;00m\u001b[38;5;124;43m05d\u001b[39;49m\u001b[38;5;132;43;01m}\u001b[39;49;00m\u001b[38;5;124;43m.png\u001b[39;49m\u001b[38;5;124;43m\"\u001b[39;49m\u001b[43m)\u001b[49m\n\u001b[1;32m     10\u001b[0m os\u001b[38;5;241m.\u001b[39mmakedirs(output_dir, exist_ok\u001b[38;5;241m=\u001b[39m\u001b[38;5;28;01mTrue\u001b[39;00m)\n\u001b[1;32m     11\u001b[0m \u001b[38;5;28;01mif\u001b[39;00m os\u001b[38;5;241m.\u001b[39mpath\u001b[38;5;241m.\u001b[39mexists(\u001b[38;5;124mf\u001b[39m\u001b[38;5;124m\"\u001b[39m\u001b[38;5;132;01m{\u001b[39;00moutput_dir\u001b[38;5;132;01m}\u001b[39;00m\u001b[38;5;124m/\u001b[39m\u001b[38;5;132;01m{\u001b[39;00midx\u001b[38;5;132;01m:\u001b[39;00m\u001b[38;5;124m02d\u001b[39m\u001b[38;5;132;01m}\u001b[39;00m\u001b[38;5;124m.mp4\u001b[39m\u001b[38;5;124m\"\u001b[39m):\n",
      "File \u001b[0;32m/usr/lib/python3.11/shutil.py:431\u001b[0m, in \u001b[0;36mcopy\u001b[0;34m(src, dst, follow_symlinks)\u001b[0m\n\u001b[1;32m    429\u001b[0m \u001b[38;5;28;01mif\u001b[39;00m os\u001b[38;5;241m.\u001b[39mpath\u001b[38;5;241m.\u001b[39misdir(dst):\n\u001b[1;32m    430\u001b[0m     dst \u001b[38;5;241m=\u001b[39m os\u001b[38;5;241m.\u001b[39mpath\u001b[38;5;241m.\u001b[39mjoin(dst, os\u001b[38;5;241m.\u001b[39mpath\u001b[38;5;241m.\u001b[39mbasename(src))\n\u001b[0;32m--> 431\u001b[0m \u001b[43mcopyfile\u001b[49m\u001b[43m(\u001b[49m\u001b[43msrc\u001b[49m\u001b[43m,\u001b[49m\u001b[43m \u001b[49m\u001b[43mdst\u001b[49m\u001b[43m,\u001b[49m\u001b[43m \u001b[49m\u001b[43mfollow_symlinks\u001b[49m\u001b[38;5;241;43m=\u001b[39;49m\u001b[43mfollow_symlinks\u001b[49m\u001b[43m)\u001b[49m\n\u001b[1;32m    432\u001b[0m copymode(src, dst, follow_symlinks\u001b[38;5;241m=\u001b[39mfollow_symlinks)\n\u001b[1;32m    433\u001b[0m \u001b[38;5;28;01mreturn\u001b[39;00m dst\n",
      "File \u001b[0;32m/usr/lib/python3.11/shutil.py:256\u001b[0m, in \u001b[0;36mcopyfile\u001b[0;34m(src, dst, follow_symlinks)\u001b[0m\n\u001b[1;32m    254\u001b[0m     os\u001b[38;5;241m.\u001b[39msymlink(os\u001b[38;5;241m.\u001b[39mreadlink(src), dst)\n\u001b[1;32m    255\u001b[0m \u001b[38;5;28;01melse\u001b[39;00m:\n\u001b[0;32m--> 256\u001b[0m     \u001b[38;5;28;01mwith\u001b[39;00m \u001b[38;5;28mopen\u001b[39m(src, \u001b[38;5;124m'\u001b[39m\u001b[38;5;124mrb\u001b[39m\u001b[38;5;124m'\u001b[39m) \u001b[38;5;28;01mas\u001b[39;00m fsrc:\n\u001b[1;32m    257\u001b[0m         \u001b[38;5;28;01mtry\u001b[39;00m:\n\u001b[1;32m    258\u001b[0m             \u001b[38;5;28;01mwith\u001b[39;00m \u001b[38;5;28mopen\u001b[39m(dst, \u001b[38;5;124m'\u001b[39m\u001b[38;5;124mwb\u001b[39m\u001b[38;5;124m'\u001b[39m) \u001b[38;5;28;01mas\u001b[39;00m fdst:\n\u001b[1;32m    259\u001b[0m                 \u001b[38;5;66;03m# macOS\u001b[39;00m\n",
      "\u001b[0;31mFileNotFoundError\u001b[0m: [Errno 2] No such file or directory: '../../output/20240811/val_val_z/7.0/with_consistnacy/5e-4/chk2/lightning_logs/version_0/crop_image/00031.png'"
     ]
    }
   ],
   "source": [
    "for idx, source_dir in enumerate(input_dirs):\n",
    "    frame_dir = source_dir + \"/\" + f\"frame\"\n",
    "    crop_dir = source_dir + \"/\" +f\"crop_image\"\n",
    "    print(\"---------------------------------\")\n",
    "    print(f\"{crop_dir}\")\n",
    "    print(\"---------------------------------\")\n",
    "    os.makedirs(frame_dir, exist_ok=True)\n",
    "    try:\n",
    "        for i in range(60):\n",
    "            shutil.copy(f\"{crop_dir}/{i:05d}.png\", f\"{frame_dir}/{i:05d}.png\")\n",
    "        os.makedirs(output_dir, exist_ok=True)\n",
    "        if os.path.exists(f\"{output_dir}/{idx:02d}.mp4\"):\n",
    "            os.remove(f\"{output_dir}/{idx:02d}.mp4\")\n",
    "        os.system(f'ffmpeg -r 6 -i \"{frame_dir}/%05d.png\" -c:v libx264 -crf 12 -pix_fmt yuv420p {output_dir}/{idx:02d}.mp4')\n",
    "    except:\n",
    "        pass"
   ]
  },
  {
   "cell_type": "code",
   "execution_count": null,
   "metadata": {},
   "outputs": [],
   "source": [
    "ffmpeg \\\n",
    "-i 00.mp4 -i 01.mp4 -i 02.mp4 -i 03.mp4 \\\n",
    "-i 04.mp4 -i 05.mp4 -i 06.mp4 -i 07.mp4 \\\n",
    "-i 08.mp4 -i 09.mp4 -i 10.mp4 -i 11.mp4 \\\n",
    "-filter_complex \\\n",
    "\"[0:v][1:v][2:v][3:v]hstack=inputs=4[top]; \\\n",
    " [4:v][5:v][6:v][7:v]hstack=inputs=4[middle_top]; \\\n",
    " [8:v][9:v][10:v][11:v]hstack=inputs=4[bottom]; \\\n",
    " [top][middle_top][bottom]vstack=inputs=3[v]\" \\\n",
    "-map \"[v]\" -pix_fmt yuv420p -crf 12 output.mp4"
   ]
  }
 ],
 "metadata": {
  "kernelspec": {
   "display_name": "venv_pytorch2.0",
   "language": "python",
   "name": "python3"
  },
  "language_info": {
   "codemirror_mode": {
    "name": "ipython",
    "version": 3
   },
   "file_extension": ".py",
   "mimetype": "text/x-python",
   "name": "python",
   "nbconvert_exporter": "python",
   "pygments_lexer": "ipython3",
   "version": "3.11.9"
  }
 },
 "nbformat": 4,
 "nbformat_minor": 2
}
