{
 "cells": [
  {
   "cell_type": "code",
   "execution_count": 1,
   "metadata": {},
   "outputs": [],
   "source": [
    "import os \n",
    "from matplotlib import pyplot as plt\n",
    "from natsort import natsorted"
   ]
  },
  {
   "cell_type": "code",
   "execution_count": 2,
   "metadata": {},
   "outputs": [],
   "source": [
    "ROOT_DIR = \"../../output/20240824/val_unsplash-trainset-under/1.0/new_light_block/\""
   ]
  },
  {
   "cell_type": "code",
   "execution_count": 3,
   "metadata": {},
   "outputs": [
    {
     "ename": "FileNotFoundError",
     "evalue": "[Errno 2] No such file or directory: '../../output/20240824/val_unsplash-trainset-under/1.0/new_light_block/1e-4/chk33/lightning_logs/version_0/train_loss'",
     "output_type": "error",
     "traceback": [
      "\u001b[0;31m---------------------------------------------------------------------------\u001b[0m",
      "\u001b[0;31mFileNotFoundError\u001b[0m                         Traceback (most recent call last)",
      "Cell \u001b[0;32mIn[3], line 13\u001b[0m\n\u001b[1;32m     11\u001b[0m all_losses \u001b[38;5;241m=\u001b[39m []\n\u001b[1;32m     12\u001b[0m step_root_dir \u001b[38;5;241m=\u001b[39m os\u001b[38;5;241m.\u001b[39mpath\u001b[38;5;241m.\u001b[39mjoin(ROOT_DIR, lr, checkpoint, \u001b[38;5;124m'\u001b[39m\u001b[38;5;124mlightning_logs/version_0/train_loss\u001b[39m\u001b[38;5;124m'\u001b[39m)\n\u001b[0;32m---> 13\u001b[0m step_dirs \u001b[38;5;241m=\u001b[39m natsorted(os\u001b[38;5;241m.\u001b[39mlistdir(step_root_dir))\n\u001b[1;32m     14\u001b[0m \u001b[38;5;28;01mfor\u001b[39;00m step_id \u001b[38;5;129;01min\u001b[39;00m step_dirs:     \n\u001b[1;32m     15\u001b[0m     \u001b[38;5;28;01mfor\u001b[39;00m file \u001b[38;5;129;01min\u001b[39;00m os\u001b[38;5;241m.\u001b[39mlistdir(os\u001b[38;5;241m.\u001b[39mpath\u001b[38;5;241m.\u001b[39mjoin(step_root_dir, step_id)):\n",
      "\u001b[0;31mFileNotFoundError\u001b[0m: [Errno 2] No such file or directory: '../../output/20240824/val_unsplash-trainset-under/1.0/new_light_block/1e-4/chk33/lightning_logs/version_0/train_loss'"
     ]
    }
   ],
   "source": [
    "LRs = natsorted(os.listdir(ROOT_DIR))  \n",
    "for lr in LRs:\n",
    "    checkpoints = natsorted(os.listdir(os.path.join(ROOT_DIR, lr)))\n",
    "    #checkpoints = [\"chk{}\".format(i) for i in range(1,6)]\n",
    "    checkpoint_id = []\n",
    "    avg_losses = []\n",
    "    for checkpoint in checkpoints:\n",
    "        if checkpoint == \"chk0\":\n",
    "            continue\n",
    "        # read all text files in directory and average to single float\n",
    "        all_losses = []\n",
    "        step_root_dir = os.path.join(ROOT_DIR, lr, checkpoint, 'lightning_logs/version_0/train_loss')\n",
    "        step_dirs = natsorted(os.listdir(step_root_dir))\n",
    "        for step_id in step_dirs:     \n",
    "            for file in os.listdir(os.path.join(step_root_dir, step_id)):\n",
    "                if file.endswith(\".txt\"):\n",
    "                    with open(os.path.join(step_root_dir, step_id, file), 'r') as f:\n",
    "                        all_losses.append(float(f.read()))       \n",
    "        avg_loss = sum(all_losses) / len(all_losses)\n",
    "        avg_losses.append(avg_loss)\n",
    "        checkpoint_id.append(int(checkpoint.replace(\"chk\",\"\")))\n",
    "    plt.plot(checkpoint_id, avg_losses, 'o-', label=lr)\n",
    "    if True:\n",
    "        print(lr)\n",
    "        #print(\"plot_id: \", checkpoint_id, \"losses: \", avg_losses)\n",
    "        # find the location that has the lowest loss\n",
    "        min_loss = min(avg_losses)\n",
    "        min_loss_id = avg_losses.index(min_loss)\n",
    "        print(\"min_loss_id: \", min_loss_id)\n",
    "        print(\"min_loss: \", min_loss)\n",
    "        # print min plot_id\n",
    "        #print(\"min_plot_id: \", checkpoint_id[min_loss_id])\n",
    "    plt.legend()\n",
    "    plt.xlabel(\"epochs\")\n",
    "    plt.ylabel(\"training loss\")\n",
    "    #plt.title(\"Training loss average on timesteps [100,200,...,900]\")\n",
    "    plt.title(\"LOSS: env_under\")"
   ]
  },
  {
   "cell_type": "code",
   "execution_count": null,
   "metadata": {},
   "outputs": [],
   "source": []
  },
  {
   "cell_type": "code",
   "execution_count": null,
   "metadata": {},
   "outputs": [],
   "source": []
  }
 ],
 "metadata": {
  "kernelspec": {
   "display_name": "venv_pytorch2.0",
   "language": "python",
   "name": "python3"
  },
  "language_info": {
   "codemirror_mode": {
    "name": "ipython",
    "version": 3
   },
   "file_extension": ".py",
   "mimetype": "text/x-python",
   "name": "python",
   "nbconvert_exporter": "python",
   "pygments_lexer": "ipython3",
   "version": "3.11.9"
  }
 },
 "nbformat": 4,
 "nbformat_minor": 2
}
