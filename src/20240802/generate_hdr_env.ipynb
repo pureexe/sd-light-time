{
 "cells": [
  {
   "cell_type": "code",
   "execution_count": 6,
   "metadata": {},
   "outputs": [],
   "source": [
    "import os \n",
    "import ezexr \n",
    "import numpy as np\n",
    "import skimage"
   ]
  },
  {
   "cell_type": "code",
   "execution_count": 4,
   "metadata": {},
   "outputs": [],
   "source": [
    "# create environemnt map size 512x256 that create white on top part that phi < 30 degree and black on bottom part\n"
   ]
  },
  {
   "cell_type": "code",
   "execution_count": 12,
   "metadata": {},
   "outputs": [],
   "source": [
    "envmap = np.zeros((256, 512, 3), dtype=np.float32)\n",
    "for y in range(256):\n",
    "    for x in range(512):\n",
    "        # convert to degree\n",
    "        phi  = y / envmap.shape[0] * 180 \n",
    "        if phi < 30:\n",
    "            envmap[y, x] = 1.0  \n",
    "skimage.io.imsave(\"envmap2.png\", skimage.img_as_ubyte(envmap))"
   ]
  },
  {
   "cell_type": "code",
   "execution_count": null,
   "metadata": {},
   "outputs": [],
   "source": []
  }
 ],
 "metadata": {
  "kernelspec": {
   "display_name": "venv_pytorch2.0",
   "language": "python",
   "name": "python3"
  },
  "language_info": {
   "codemirror_mode": {
    "name": "ipython",
    "version": 3
   },
   "file_extension": ".py",
   "mimetype": "text/x-python",
   "name": "python",
   "nbconvert_exporter": "python",
   "pygments_lexer": "ipython3",
   "version": "3.11.9"
  }
 },
 "nbformat": 4,
 "nbformat_minor": 2
}
