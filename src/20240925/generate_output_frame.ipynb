{
 "cells": [
  {
   "cell_type": "code",
   "execution_count": 2,
   "metadata": {},
   "outputs": [],
   "source": [
    "import os\n",
    "import torch\n",
    "import torchvision\n",
    "from tqdm.auto import tqdm"
   ]
  },
  {
   "cell_type": "code",
   "execution_count": 12,
   "metadata": {},
   "outputs": [],
   "source": [
    "TOTAL_FRAME = 60\n",
    "SOURCE_SCENES = ['00000', '00001', '00002', '00003', '00004']\n",
    "TARGET_SCENES = [ '01237','00700','00321', '01425']\n",
    "VERSION = range(4)\n",
    "INPUT_DIR = \"../../output/20240925/multi_mlp_fit/lightning_logs/version_{}/epoch_0049/\"\n",
    "OUTPUT_DIR = \"../../output/20240925/multi_mlp_fit/lightning_logs/\"\n"
   ]
  },
  {
   "cell_type": "code",
   "execution_count": 20,
   "metadata": {},
   "outputs": [
    {
     "data": {
      "application/vnd.jupyter.widget-view+json": {
       "model_id": "61997218680d437ab7d7490bc97f6720",
       "version_major": 2,
       "version_minor": 0
      },
      "text/plain": [
       "  0%|          | 0/4 [00:00<?, ?it/s]"
      ]
     },
     "metadata": {},
     "output_type": "display_data"
    }
   ],
   "source": [
    "\n",
    "            \n",
    "for version_id in tqdm(VERSION):\n",
    "    images = []\n",
    "    input_dir = INPUT_DIR.format(version_id)\n",
    "    # first row is target_light \n",
    "    images.append(torch.zeros(3,256,256))\n",
    "    images.append(torch.zeros(3,256,256))\n",
    "    for scene in ['00000']:\n",
    "        for target_scene in TARGET_SCENES:\n",
    "            try:\n",
    "                filename = f'{scene}_{target_scene}.jpg'\n",
    "                image = torchvision.io.read_image(os.path.join(input_dir,'source_image', filename)) / 255.0\n",
    "                # resize image to 256x256\n",
    "                image = torchvision.transforms.functional.resize(image, (256,256))\n",
    "                images.append(image)\n",
    "            except:\n",
    "                images.append(torch.zeros(3,256,256))\n",
    "    for scene in SOURCE_SCENES:\n",
    "        # first image is itself gt \n",
    "        try:\n",
    "            image = torchvision.io.read_image(os.path.join(input_dir,'source_image', f'{scene}_{scene}.jpg')) / 255.0\n",
    "            # resize image to 256x256\n",
    "            image = torchvision.transforms.functional.resize(image, (256,256))\n",
    "            images.append(image)\n",
    "        except:\n",
    "            images.append(torch.zeros(3,256,256))\n",
    "        # second row is itself ddim\n",
    "        try:\n",
    "            image = torchvision.io.read_image(os.path.join(input_dir,'crop_image', f'{scene}_{scene}.jpg')) / 255.0\n",
    "            # resize image to 256x256\n",
    "            image = torchvision.transforms.functional.resize(image, (256,256))\n",
    "            images.append(image)\n",
    "        except:\n",
    "            images.append(torch.zeros(3,256,256))\n",
    "\n",
    "        # then for loop for target_scene\n",
    "        for target_scene in TARGET_SCENES:\n",
    "            try:\n",
    "                filename = f'{scene}_{target_scene}.jpg'\n",
    "                image = torchvision.io.read_image(os.path.join(input_dir,'crop_image', filename)) / 255.0\n",
    "                # resize image to 256x256\n",
    "                image = torchvision.transforms.functional.resize(image, (256,256))\n",
    "                images.append(image)\n",
    "            except:\n",
    "                images.append(torch.zeros(3,256,256))\n",
    "    # make grid\n",
    "    grid = torchvision.utils.make_grid(images, nrow=2 + len(TARGET_SCENES))\n",
    "    # save image\n",
    "    output_path = os.path.join(OUTPUT_DIR, f'version_{version_id}.jpg')\n",
    "    torchvision.utils.save_image(grid, output_path)"
   ]
  },
  {
   "cell_type": "code",
   "execution_count": null,
   "metadata": {},
   "outputs": [],
   "source": []
  },
  {
   "cell_type": "code",
   "execution_count": null,
   "metadata": {},
   "outputs": [],
   "source": []
  }
 ],
 "metadata": {
  "kernelspec": {
   "display_name": "venv_pytorch2.0",
   "language": "python",
   "name": "python3"
  },
  "language_info": {
   "codemirror_mode": {
    "name": "ipython",
    "version": 3
   },
   "file_extension": ".py",
   "mimetype": "text/x-python",
   "name": "python",
   "nbconvert_exporter": "python",
   "pygments_lexer": "ipython3",
   "version": "3.11.9"
  }
 },
 "nbformat": 4,
 "nbformat_minor": 2
}
