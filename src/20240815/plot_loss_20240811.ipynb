{
 "cells": [
  {
   "cell_type": "code",
   "execution_count": 1,
   "metadata": {},
   "outputs": [],
   "source": [
    "import os \n",
    "from matplotlib import pyplot as plt\n",
    "from natsort import natsorted"
   ]
  },
  {
   "cell_type": "code",
   "execution_count": 2,
   "metadata": {},
   "outputs": [],
   "source": [
    "ROOT_DIR = \"../../output/20240815/val_human_right/1.0/no_consistnacy\""
   ]
  },
  {
   "cell_type": "code",
   "execution_count": 3,
   "metadata": {},
   "outputs": [
    {
     "name": "stdout",
     "output_type": "stream",
     "text": [
      "['chk0', 'chk1', 'chk2', 'chk3', 'chk4', 'chk5', 'chk10', 'chk15', 'chk20', 'chk25', 'chk30', 'chk35', 'chk40', 'chk45']\n"
     ]
    }
   ],
   "source": [
    "LRs = natsorted(os.listdir(ROOT_DIR))  \n",
    "for lr in LRs:\n",
    "    checkpoints = natsorted(os.listdir(os.path.join(ROOT_DIR, lr)))\n",
    "    checkpoint_id = []\n",
    "    avg_losses = []\n",
    "    for checkpoint in checkpoints:\n",
    "        # read all text files in directory and average to single float\n",
    "        all_losses = []\n",
    "        step_root_dir = os.path.join(ROOT_DIR, lr, checkpoint, 'lightning_logs/version_0/train_loss')\n",
    "        step_dirs = natsorted(os.listdir(step_root_dir))\n",
    "        for step_id in step_dirs:     \n",
    "            for file in os.listdir(os.path.join(step_root_dir, step_id)):\n",
    "                if file.endswith(\".txt\"):\n",
    "                    with open(os.path.join(step_root_dir, step_id, file), 'r') as f:\n",
    "                        all_losses.append(float(f.read()))       \n",
    "        avg_loss = sum(all_losses) / len(all_losses)\n",
    "        avg_losses.append(avg_loss)\n",
    "        checkpoint_id.append(int(checkpoint.replace(\"chk\",\"\"))+1)\n",
    "    plt.plot(checkpoint_id, avg_losses, 'o-', label=lr)\n",
    "    if lr == \"1e-4\":\n",
    "        print(\"plot_id: \", checkpoint_id, \"losses: \", avg_losses)\n",
    "        # find the location that has the lowest loss\n",
    "        min_loss = min(avg_losses)\n",
    "        min_loss_id = avg_losses.index(min_loss)\n",
    "        print(\"min_loss_id: \", min_loss_id)\n",
    "        print(\"min_loss: \", min_loss)\n",
    "        # print min plot_id\n",
    "        print(\"min_plot_id: \", checkpoint_id[min_loss_id])\n",
    "    plt.legend()\n",
    "    plt.xlabel(\"epochs\")\n",
    "    #plt.ylim([0.13150, 0.13165])\n",
    "    plt.ylabel(\"training loss\")\n",
    "    plt.title(\"Training loss average on timesteps [100,200,...,900]\")"
   ]
  },
  {
   "cell_type": "code",
   "execution_count": null,
   "metadata": {},
   "outputs": [],
   "source": []
  },
  {
   "cell_type": "code",
   "execution_count": null,
   "metadata": {},
   "outputs": [],
   "source": []
  }
 ],
 "metadata": {
  "kernelspec": {
   "display_name": "venv_pytorch2.0",
   "language": "python",
   "name": "python3"
  },
  "language_info": {
   "codemirror_mode": {
    "name": "ipython",
    "version": 3
   },
   "file_extension": ".py",
   "mimetype": "text/x-python",
   "name": "python",
   "nbconvert_exporter": "python",
   "pygments_lexer": "ipython3",
   "version": "3.11.9"
  }
 },
 "nbformat": 4,
 "nbformat_minor": 2
}
