{
 "cells": [
  {
   "cell_type": "code",
   "execution_count": 2,
   "metadata": {},
   "outputs": [],
   "source": [
    "import os \n",
    "import shutil"
   ]
  },
  {
   "cell_type": "code",
   "execution_count": 3,
   "metadata": {},
   "outputs": [],
   "source": [
    "GUIDANCE_SCALES = ['1.0', '3.0', '5.0', '7.0']\n",
    "LEARNING_RATES = ['5e-4', '1e-4', '5e-5', '1e-5']\n",
    "CHECKPOINTS = [0,1,2,3,4,5,10,15,20,25,30,35,40]"
   ]
  },
  {
   "cell_type": "code",
   "execution_count": 5,
   "metadata": {},
   "outputs": [],
   "source": [
    "# copy image \n",
    "for guidance in GUIDANCE_SCALES:\n",
    "    for lr in LEARNING_RATES:\n",
    "        for chk in CHECKPOINTS:\n",
    "            shutil.copy2(\n",
    "                \"../../output/20240815/val_human_left2/{}/no_consistnacy/{}/chk{}/lightning_logs/version_0/crop_image/AUrK7wuV8fE_0.png\".format(guidance, lr, chk),\n",
    "                \"../../output/20240815/val_human_left/{}/no_consistnacy/{}/chk{}/lightning_logs/version_0/crop_image/AUrK7wuV8fE_0.png\".format(guidance, lr, chk)\n",
    "            )\n"
   ]
  },
  {
   "cell_type": "code",
   "execution_count": 6,
   "metadata": {},
   "outputs": [],
   "source": [
    "# copy image \n",
    "for guidance in GUIDANCE_SCALES:\n",
    "    for lr in LEARNING_RATES:\n",
    "        for chk in CHECKPOINTS:\n",
    "            shutil.copy2(\n",
    "                \"../../output/20240815/val_human_left2/{}/no_consistnacy/{}/chk{}/lightning_logs/version_0/face_light/AUrK7wuV8fE_0_light.npy\".format(guidance, lr, chk),\n",
    "                \"../../output/20240815/val_human_left/{}/no_consistnacy/{}/chk{}/lightning_logs/version_0/face_light/AUrK7wuV8fE_0_light.npy\".format(guidance, lr, chk)\n",
    "            )\n"
   ]
  },
  {
   "cell_type": "code",
   "execution_count": 9,
   "metadata": {},
   "outputs": [
    {
     "ename": "FileNotFoundError",
     "evalue": "[Errno 2] No such file or directory: '../../output/20240815/val_human_left/1.0/no_consistnacy/5e-4/chk0/lightning_logs/version_0/crop_image/-1l9VYK7O4E_0.png'",
     "output_type": "error",
     "traceback": [
      "\u001b[0;31m---------------------------------------------------------------------------\u001b[0m",
      "\u001b[0;31mFileNotFoundError\u001b[0m                         Traceback (most recent call last)",
      "Cell \u001b[0;32mIn[9], line 6\u001b[0m\n\u001b[1;32m      4\u001b[0m \u001b[38;5;28;01mfor\u001b[39;00m chk \u001b[38;5;129;01min\u001b[39;00m CHECKPOINTS:\n\u001b[1;32m      5\u001b[0m     path \u001b[38;5;241m=\u001b[39m \u001b[38;5;124m\"\u001b[39m\u001b[38;5;124m../../output/20240815/val_human_left/\u001b[39m\u001b[38;5;132;01m{}\u001b[39;00m\u001b[38;5;124m/no_consistnacy/\u001b[39m\u001b[38;5;132;01m{}\u001b[39;00m\u001b[38;5;124m/chk\u001b[39m\u001b[38;5;132;01m{}\u001b[39;00m\u001b[38;5;124m/lightning_logs/version_0/crop_image/-1l9VYK7O4E_0.png\u001b[39m\u001b[38;5;124m\"\u001b[39m\u001b[38;5;241m.\u001b[39mformat(guidance, lr, chk)\n\u001b[0;32m----> 6\u001b[0m     \u001b[43mos\u001b[49m\u001b[38;5;241;43m.\u001b[39;49m\u001b[43mremove\u001b[49m\u001b[43m(\u001b[49m\u001b[43mpath\u001b[49m\u001b[43m)\u001b[49m\n",
      "\u001b[0;31mFileNotFoundError\u001b[0m: [Errno 2] No such file or directory: '../../output/20240815/val_human_left/1.0/no_consistnacy/5e-4/chk0/lightning_logs/version_0/crop_image/-1l9VYK7O4E_0.png'"
     ]
    }
   ],
   "source": [
    "# copy image \n",
    "for guidance in GUIDANCE_SCALES:\n",
    "    for lr in LEARNING_RATES:\n",
    "        for chk in CHECKPOINTS:\n",
    "            path = \"../../output/20240815/val_human_left/{}/no_consistnacy/{}/chk{}/lightning_logs/version_0/crop_image/-1l9VYK7O4E_0.png\".format(guidance, lr, chk)\n",
    "            os.remove(path)\n"
   ]
  },
  {
   "cell_type": "code",
   "execution_count": 11,
   "metadata": {},
   "outputs": [],
   "source": [
    "# copy image \n",
    "for guidance in GUIDANCE_SCALES:\n",
    "    for lr in LEARNING_RATES:\n",
    "        for chk in CHECKPOINTS:\n",
    "            try:\n",
    "