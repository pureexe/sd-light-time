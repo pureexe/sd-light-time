{
 "cells": [
  {
   "cell_type": "code",
   "execution_count": 1,
   "metadata": {},
   "outputs": [],
   "source": [
    "import os\n",
    "import torch\n",
    "import torchvision\n",
    "from torchvision import transforms, utils\n",
    "\n",
    "def create_image_grid(image_dir, output_path=\"image_grid.png\", max_images=100):\n",
    "  \"\"\"\n",
    "  Creates a 10x10 image grid from all image files in a directory.\n",
    "\n",
    "  Args:\n",
    "      image_dir (str): Path to the directory containing images.\n",
    "      output_path (str, optional): Path to save the output image grid. Defaults to \"image_grid.png\".\n",
    "      max_images (int, optional): Maximum number of images to include in the grid. Defaults to 100.\n",
    "\n",
    "  Raises:\n",
    "      ValueError: If the image directory is not found or does not contain any images.\n",
    "  \"\"\"\n",
    "\n",
    "  if not os.path.exists(image_dir):\n",
    "    raise ValueError(f\"Image directory '{image_dir}' does not exist.\")\n",
    "\n",
    "  images = []\n",
    "  for filename in sorted(os.listdir(image_dir)):\n",
    "    if filename.lower().endswith((\".jpg\", \".jpeg\", \".png\")):\n",
    "      image_path = os.path.join(image_dir, filename)\n",
    "      try:\n",
    "        # Load image using torchvision\n",
    "        #img = transforms.ToTensor()(transforms.pil_to_image.to_pil_image(torchvision.io.read_image(image_path)))\n",
    "        img = torchvision.io.read_image(image_path)\n",
    "        images.append(img)\n",
    "\n",
    "        # Limit the number of images to avoid memory issues\n",
    "        if len(images) >= max_images:\n",
    "          break\n",
    "      except Exception as e:\n",
    "        print(f\"Error loading image '{filename}': {e}\")\n",
    "\n",
    "  if not images:\n",
    "    raise ValueError(f\"No valid image files found in '{image_dir}'.\")\n",
    "\n",
    "  # Create a grid with a maximum of 100 images (adjust nrow if needed)\n",
    "  grid = utils.make_grid(images[:max_images], nrow=10, padding=2)\n",
    "\n",
    "  # Convert the grid tensor to a PIL image for saving\n",
    "  grid_image = transforms.ToPILImage()(grid)\n",
    "\n",
    "  # Save the image grid\n",
    "  grid_image.save(output_path)\n",
    "  print(f\"Image grid saved to '{output_path}'.\")"
   ]
  },
  {
   "cell_type": "code",
   "execution_count": 2,
   "metadata": {},
   "outputs": [
    {
     "name": "stdout",
     "output_type": "stream",
     "text": [
      "Image grid saved to 'output/20240612/multi_fit/lightning_logs/version_0/face/step082000/0.jpg'.\n",
      "Image grid saved to 'output/20240612/multi_fit/lightning_logs/version_0/face/step082000/1.jpg'.\n",
      "Image grid saved to 'output/20240612/multi_fit/lightning_logs/version_1/face/step082000/0.jpg'.\n",
      "Image grid saved to 'output/20240612/multi_fit/lightning_logs/version_1/face/step082000/1.jpg'.\n",
      "Image grid saved to 'output/20240612/multi_fit/lightning_logs/version_2/face/step082000/0.jpg'.\n",
      "Image grid saved to 'output/20240612/multi_fit/lightning_logs/version_2/face/step082000/1.jpg'.\n",
      "Image grid saved to 'output/20240612/multi_fit/lightning_logs/version_3/face/step082000/0.jpg'.\n",
      "Image grid saved to 'output/20240612/multi_fit/lightning_logs/version_3/face/step082000/1.jpg'.\n"
     ]
    }
   ],
   "source": [
    "for i in range(4):\n",
    "    for j in range(2):\n",
    "        create_image_grid(f\"output/20240612/multi_fit/lightning_logs/version_{i}/face/step082000/{j}\", output_path=f\"output/20240612/multi_fit/lightning_logs/version_{i}/face/step082000/{j}.jpg\", max_images=100)\n",
    "        #create_image_grid(f\"output/20240604_TimeEmbedding/lightning_logs/version_{i}/face/step011400/{j}\", output_path=f\"output/20240604_TimeEmbedding/lightning_logs/version_{i}/face/step011400/{j}.jpg\", max_images=100)"
   ]
  },
  {
   "cell_type": "code",
   "execution_count": null,
   "metadata": {},
   "outputs": [],
   "source": []
  }
 ],
 "metadata": {
  "kernelspec": {
   "display_name": "venv_pytorch2.0",
   "language": "python",
   "name": "python3"
  },
  "language_info": {
   "codemirror_mode": {
    "name": "ipython",
    "version": 3
   },
   "file_extension": ".py",
   "mimetype": "text/x-python",
   "name": "python",
   "nbconvert_exporter": "python",
   "pygments_lexer": "ipython3",
   "version": "3.11.4"
  }
 },
 "nbformat": 4,
 "nbformat_minor": 2
}
