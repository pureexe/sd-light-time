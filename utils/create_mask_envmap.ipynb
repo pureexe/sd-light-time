{
 "cells": [
  {
   "cell_type": "code",
   "execution_count": 1,
   "metadata": {},
   "outputs": [],
   "source": [
    "import os \n",
    "import json \n",
    "from ezexr import imread, imwrite\n",
    "import numpy as np \n",
    "import skimage "
   ]
  },
  {
   "cell_type": "code",
   "execution_count": 16,
   "metadata": {},
   "outputs": [],
   "source": [
    "DATASET_DIR = \"datasets/face/face2000_single\"\n",
    "OUTPUT_DIR = \"datasets/validation/mask_envmap/mask_topleft\""
   ]
  },
  {
   "cell_type": "code",
   "execution_count": 17,
   "metadata": {},
   "outputs": [],
   "source": [
    "with open('datasets/face/face2000_single/light_x_minus.json') as f:\n",
    "    file_paths = json.load(f)"
   ]
  },
  {
   "cell_type": "code",
   "execution_count": 20,
   "metadata": {},
   "outputs": [],
   "source": [
    "for filepath in file_paths:\n",
    "    subdir, filename = filepath.split('/')[-2:]\n",
    "    # read ev0 \n",
    "    if True:\n",
    "        img = skimage.io.imread(os.path.join(DATASET_DIR, \"ev0\", filepath+\".png\"))\n",
    "        img = skimage.img_as_float(img)\n",
    "        H,W = img.shape[:2]\n",
    "        # mask all except top right as black color \n",
    "        mask = np.zeros((H,W))\n",
    "        #mask[:H//2,W//2:] = 1\n",
    "        mask[:H//2,:W//2] = 1\n",
    "        img = img * mask[:,:,None]\n",
    "        os.makedirs(os.path.join(OUTPUT_DIR,  \"ev0\"), exist_ok=True)\n",
    "        img = skimage.img_as_ubyte(img)\n",
    "        skimage.io.imsave(os.path.join(OUTPUT_DIR,   \"ev0\", filename+\".png\"), img)\n",
    "    if True:\n",
    "        # process exr file \n",
    "        img = imread(os.path.join(DATASET_DIR, \"exr\", filepath+\".exr\")).astype(np.float32)\n",
    "        H,W = img.shape[:2]\n",
    "        mask = np.zeros((H,W))\n",
    "        #mask[:H//2,W//2:] = 1\n",
    "        mask[:H//2,:W//2] = 1\n",
    "        img = img * mask[:,:,None]\n",
    "        os.makedirs(os.path.join(OUTPUT_DIR,  \"exr\"), exist_ok=True)\n",
    "        imwrite(os.path.join(OUTPUT_DIR,   \"exr\", filename+\".exr\"), img.astype(np.float32))\n"
   ]
  },
  {
   "cell_type": "code",
   "execution_count": null,
   "metadata": {},
   "outputs": [],
   "source": []
  },
  {
   "cell_type": "code",
   "execution_count": null,
   "metadata": {},
   "outputs": [],
   "source": []
  }
 ],
 "metadata": {
  "kernelspec": {
   "display_name": "venv_pytorch2.0",
   "language": "python",
   "name": "python3"
  },
  "language_info": {
   "codemirror_mode": {
    "name": "ipython",
    "version": 3
   },
   "file_extension": ".py",
   "mimetype": "text/x-python",
   "name": "python",
   "nbconvert_exporter": "python",
   "pygments_lexer": "ipython3",
   "version": "3.11.9"
  }
 },
 "nbformat": 4,
 "nbformat_minor": 2
}
