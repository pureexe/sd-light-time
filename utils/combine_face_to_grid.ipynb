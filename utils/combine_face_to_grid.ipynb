{
 "cells": [
  {
   "cell_type": "code",
   "execution_count": 1,
   "metadata": {},
   "outputs": [],
   "source": [
    "import os \n",
    "import skimage\n",
    "import torchvision \n",
    "import torch"
   ]
  },
  {
   "cell_type": "code",
   "execution_count": 2,
   "metadata": {},
   "outputs": [],
   "source": [
    "METHODS = ['vae']\n",
    "CHKS = ['chk39']\n",
    "GUIDANCES = ['g5.00']\n",
    "FACES = list(range(8))\n",
    "IMAGES = list(range(48))"
   ]
  },
  {
   "cell_type": "code",
   "execution_count": 5,
   "metadata": {},
   "outputs": [
    {
     "name": "stderr",
     "output_type": "stream",
     "text": [
      "/home/vll/venv_pytorch2.0/lib/python3.11/site-packages/torchvision/transforms/functional.py:1603: UserWarning: The default value of the antialias parameter of all the resizing transforms (Resize(), RandomResizedCrop(), etc.) will change from None to True in v0.17, in order to be consistent across the PIL and Tensor backends. To suppress this warning, directly pass antialias=True (recommended, future default), antialias=None (current default, which means False for Tensors and True for PIL), or antialias=False (only works on Tensors - PIL will still use antialiasing). This also applies if you are using the inference transforms from the models weights: update the call to weights.transforms(antialias=True).\n",
      "  warnings.warn(\n"
     ]
    }
   ],
   "source": [
    "guidance = \"g3.00\"\n",
    "for chk in CHKS:\n",
    "    for method in METHODS:\n",
    "        for image in IMAGES:\n",
    "            output_image = []\n",
    "            for face in FACES:\n",
    "                img = torchvision.io.read_image(f'output/20240703/val_video_gudiance/{method}/5e-5/{chk}/{guidance}/lightning_logs/version_0/face/step000000/{guidance}/{face}/{image:03d}.png')\n",
    "                # resize to 256x256 using torchvision\n",
    "                img = torchvision.transforms.functional.resize(img, (256, 256))\n",
    "                output_image.append(img)\n",
    "            # make output image into grid using makegrid\n",
    "            output_image = torchvision.utils.make_grid(output_image, nrow=4)\n",
    "            out_dir = f'output/20240703/val_video_gudiance/vae_5e-5/{chk}/face/{face}'\n",
    "            os.makedirs(out_dir, exist_ok=True)\n",
    "            # convert to pil and save image\n",
    "            output_image = torchvision.transforms.functional.to_pil_image(output_image)\n",
    "            output_image.save(f'{out_dir}/{image:03d}.png')"
   ]
  },
  {
   "cell_type": "code",
   "execution_count": null,
   "metadata": {},
   "outputs": [],
   "source": []
  }
 ],
 "metadata": {
  "kernelspec": {
   "display_name": "venv_pytorch2.0",
   "language": "python",
   "name": "python3"
  },
  "language_info": {
   "codemirror_mode": {
    "name": "ipython",
    "version": 3
   },
   "file_extension": ".py",
   "mimetype": "text/x-python",
   "name": "python",
   "nbconvert_exporter": "python",
   "pygments_lexer": "ipython3",
   "version": "3.11.4"
  }
 },
 "nbformat": 4,
 "nbformat_minor": 2
}
