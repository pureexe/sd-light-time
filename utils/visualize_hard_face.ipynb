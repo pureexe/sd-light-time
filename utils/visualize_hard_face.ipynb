{
 "cells": [
  {
   "cell_type": "code",
   "execution_count": 11,
   "metadata": {},
   "outputs": [],
   "source": [
    "import os \n",
    "import json \n",
    "import torchvision\n",
    "import skimage \n",
    "import numpy as np\n",
    "import torch\n",
    "from PIL import Image"
   ]
  },
  {
   "cell_type": "code",
   "execution_count": 12,
   "metadata": {},
   "outputs": [],
   "source": [
    "ROOT_PATH = 'datasets/face/face2000_single'"
   ]
  },
  {
   "cell_type": "code",
   "execution_count": 13,
   "metadata": {},
   "outputs": [],
   "source": [
    "with open('datasets/face/face2000_single/hardlight.json', 'r') as f:\n",
    "    hardlight = json.load(f)"
   ]
  },
  {
   "cell_type": "code",
   "execution_count": 14,
   "metadata": {},
   "outputs": [],
   "source": [
    "output_image = []\n",
    "for idx, filepath in enumerate(hardlight):\n",
    "    if len(output_image) >= 100:\n",
    "        break\n",
    "    light = np.load(os.path.join(ROOT_PATH, 'light', filepath+\"_light.npy\"))\n",
    "    # convert light to gray \n",
    "    light = 0.299*light[...,0] + 0.587*light[...,1] + 0.114*light[...,2]\n",
    "    if light[1] < 0.0:\n",
    "        continue\n",
    "    img = Image.open(os.path.join(ROOT_PATH, 'images', filepath+'.png'))\n",
    "    img = img.resize((256, 256))\n",
    "    img = torch.from_numpy(np.array(img) / 255.0).permute(2, 0, 1)\n",
    "    output_image.append(img)"
   ]
  },
  {
   "cell_type": "code",
   "execution_count": 15,
   "metadata": {},
   "outputs": [],
   "source": [
    "out_img = torchvision.utils.make_grid(output_image, nrow=10)\n",
    "out_img = torchvision.transforms.ToPILImage()(out_img)\n",
    "out_img.save('datasets/face/face2000_single/hardlight_right.png')"
   ]
  },
  {
   "cell_type": "code",
   "execution_count": null,
   "metadata": {},
   "outputs": [],
   "source": []
  }
 ],
 "metadata": {
  "kernelspec": {
   "display_name": "venv_pytorch2.0",
   "language": "python",
   "name": "python3"
  },
  "language_info": {
   "codemirror_mode": {
    "name": "ipython",
    "version": 3
   },
   "file_extension": ".py",
   "mimetype": "text/x-python",
   "name": "python",
   "nbconvert_exporter": "python",
   "pygments_lexer": "ipython3",
   "version": "3.11.4"
  }
 },
 "nbformat": 4,
 "nbformat_minor": 2
}
